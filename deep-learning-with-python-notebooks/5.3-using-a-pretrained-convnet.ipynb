{
 "cells": [
  {
   "cell_type": "markdown",
   "metadata": {},
   "source": [
    "原文代码作者：François Chollet\n",
    "\n",
    "github：https://github.com/fchollet/deep-learning-with-python-notebooks\n",
    "\n",
    "中文注释制作：黄海广\n",
    "\n",
    "github：https://github.com/fengdu78\n",
    "\n",
    "代码全部测试通过。\n",
    "\n",
    "配置环境：keras 2.2.1（原文是2.0.8，运行结果一致），tensorflow 1.8，python 3.6，\n",
    "\n",
    "主机：显卡：一块1080ti；内存：32g（注：绝大部分代码不需要GPU）\n",
    "![公众号](data/gongzhong.jpg)"
   ]
  },
  {
   "cell_type": "code",
   "execution_count": 1,
   "metadata": {
    "ExecuteTime": {
     "end_time": "2019-01-29T01:16:22.145470Z",
     "start_time": "2019-01-29T01:16:15.771802Z"
    }
   },
   "outputs": [
    {
     "name": "stderr",
     "output_type": "stream",
     "text": [
      "C:\\ProgramData\\Anaconda3\\lib\\site-packages\\h5py\\__init__.py:36: FutureWarning: Conversion of the second argument of issubdtype from `float` to `np.floating` is deprecated. In future, it will be treated as `np.float64 == np.dtype(float).type`.\n",
      "  from ._conv import register_converters as _register_converters\n",
      "Using TensorFlow backend.\n"
     ]
    },
    {
     "data": {
      "text/plain": [
       "'2.2.4'"
      ]
     },
     "execution_count": 1,
     "metadata": {},
     "output_type": "execute_result"
    }
   ],
   "source": [
    "import keras\n",
    "keras.__version__"
   ]
  },
  {
   "cell_type": "markdown",
   "metadata": {},
   "source": [
    "# Using a pre-trained convnet\n",
    "# 使用预训练的卷积神经网络\n",
    "\n",
    "This notebook contains the code sample found in Chapter 5, Section 3 of [Deep Learning with Python](https://www.manning.com/books/deep-learning-with-python?a_aid=keras&a_bid=76564dff). Note that the original text features far more content, in particular further explanations and figures: in this notebook, you will only find source code and related comments.\n",
    "\n",
    "----\n",
    "\n",
    "A common and highly effective approach to deep learning on small image datasets is to leverage a pre-trained network. A pre-trained network \n",
    "is simply a saved network previously trained on a large dataset, typically on a large-scale image classification task. If this original \n",
    "dataset is large enough and general enough, then the spatial feature hierarchy learned by the pre-trained network can effectively act as a \n",
    "generic model of our visual world, and hence its features can prove useful for many different computer vision problems, even though these \n",
    "new problems might involve completely different classes from those of the original task. For instance, one might train a network on \n",
    "ImageNet (where classes are mostly animals and everyday objects) and then re-purpose this trained network for something as remote as \n",
    "identifying furniture items in images. Such portability of learned features across different problems is a key advantage of deep learning \n",
    "compared to many older shallow learning approaches, and it makes deep learning very effective for small-data problems.\n",
    "\n",
    "In our case, we will consider a large convnet trained on the ImageNet dataset (1.4 million labeled images and 1000 different classes). \n",
    "ImageNet contains many animal classes, including different species of cats and dogs, and we can thus expect to perform very well on our cat \n",
    "vs. dog classification problem.\n",
    "\n",
    "We will use the VGG16 architecture, developed by Karen Simonyan and Andrew Zisserman in 2014, a simple and widely used convnet architecture \n",
    "for ImageNet. Although it is a bit of an older model, far from the current state of the art and somewhat heavier than many other recent \n",
    "models, we chose it because its architecture is similar to what you are already familiar with, and easy to understand without introducing \n",
    "any new concepts. This may be your first encounter with one of these cutesie model names -- VGG, ResNet, Inception, Inception-ResNet, \n",
    "Xception... you will get used to them, as they will come up frequently if you keep doing deep learning for computer vision.\n",
    "\n",
    "There are two ways to leverage a pre-trained network: *feature extraction* and *fine-tuning*. We will cover both of them. Let's start with \n",
    "feature extraction.\n",
    "\n",
    "\n",
    "想要将深度学习应用于小型图像数据集，一种常用且非常高效的方法是使用预训练网络。 预训练网络（pretrained network）是一个保存好的网络，之前已在大型数据集（通常是大规模图像分类任务）上训练好。如果这个原始数据集足够大且足够通用，那么预训练网络学到的特征的空间层次结构可以有效地作为视觉世界的通用模型，因此这些特征可用于各种不同的计算机视觉问题，即使这些新问题涉及的类别和原始任务完全不同。举个例子，你在 ImageNet 上训练了一个网络（其类别主要是动物和日常用品），然后将这个训练好的网络应用于某个不相干的任务，比如在图像中识别家具。这种学到的特征在不同问题之间的可移植性，是深度学习与许多早期浅层学习方法相比的重要优势，它使得深度学习对小数据问题非常有效。\n",
    "\n",
    "本例中，假设有一个在 ImageNet 数据集（140 万张标记图像，1000 个不同的类别）上训练好的大型卷积神经网络。ImageNet 中包含许多动物类别，其中包括不同种类的猫和狗，因此可以认为它在猫狗分类问题上也能有良好的表现。\n",
    "\n",
    "我们将使用 VGG16 架构，它由 Karen Simonyan 和 Andrew Zisserman 在 2014 年开发。对于ImageNet，它是一种简单而又广泛使用的卷积神经网络架构。虽然 VGG16 是一个比较旧的模 型，性能远比不了当前最先进的模型，而且还比许多新模型更为复杂，但我之所以选择它，是因为它的架构与你已经熟悉的架构很相似，因此无须引入新概念就可以很好地理解。这可能是你第一次遇到这种奇怪的模型名称——VGG、ResNet、Inception、Inception-ResNet、Xception 等。 你会习惯这些名称的，因为如果你一直用深度学习做计算机视觉的话，它们会频繁出现。\n",
    "\n",
    "使用预训练网络有两种方法：特征提取（feature extraction）和微调模型（fine-tuning）。两种方法我们都会介绍。首先来看特征提取。\n",
    "\n"
   ]
  },
  {
   "cell_type": "markdown",
   "metadata": {},
   "source": [
    "## Feature extraction\n",
    "\n",
    "Feature extraction consists of using the representations learned by a previous network to extract interesting features from new samples. \n",
    "These features are then run through a new classifier, which is trained from scratch.\n",
    "\n",
    "As we saw previously, convnets used for image classification comprise two parts: they start with a series of pooling and convolution \n",
    "layers, and they end with a densely-connected classifier. The first part is called the \"convolutional base\" of the model. In the case of \n",
    "convnets, \"feature extraction\" will simply consist of taking the convolutional base of a previously-trained network, running the new data \n",
    "through it, and training a new classifier on top of the output.\n",
    "\n",
    "## 特征提取\n",
    "\n",
    "特征提取是使用之前网络学到的表示来从新样本中提取出有趣的特征。然后将这些特征输入一个新的分类器，从头开始训练。\n",
    "\n",
    "如前所述，用于图像分类的卷积神经网络包含两部分：首先是一系列池化层和卷积层，最后是一个密集连接分类器。第一部分叫作模型的卷积基（convolutional base）。对于卷积神经网络而言，特征提取就是取出之前训练好的网络的卷积基，在上面运行新数据，然后在输出上面 训练一个新的分类器（见下图）。\n",
    "\n",
    "\n",
    "![swapping FC classifiers](data/swapping_fc_classifier.png)\n",
    "\n",
    "Why only reuse the convolutional base? Could we reuse the densely-connected classifier as well? In general, it should be avoided. The \n",
    "reason is simply that the representations learned by the convolutional base are likely to be more generic and therefore more reusable: the \n",
    "feature maps of a convnet are presence maps of generic concepts over a picture, which is likely to be useful regardless of the computer \n",
    "vision problem at hand. On the other end, the representations learned by the classifier will necessarily be very specific to the set of \n",
    "classes that the model was trained on -- they will only contain information about the presence probability of this or that class in the \n",
    "entire picture. Additionally, representations found in densely-connected layers no longer contain any information about _where_ objects are \n",
    "located in the input image: these layers get rid of the notion of space, whereas the object location is still described by convolutional \n",
    "feature maps. For problems where object location matters, densely-connected features would be largely useless.\n",
    "\n",
    "Note that the level of generality (and therefore reusability) of the representations extracted by specific convolution layers depends on \n",
    "the depth of the layer in the model. Layers that come earlier in the model extract local, highly generic feature maps (such as visual \n",
    "edges, colors, and textures), while layers higher-up extract more abstract concepts (such as \"cat ear\" or \"dog eye\"). So if your new \n",
    "dataset differs a lot from the dataset that the original model was trained on, you may be better off using only the first few layers of the \n",
    "model to do feature extraction, rather than using the entire convolutional base.\n",
    "\n",
    "In our case, since the ImageNet class set did contain multiple dog and cat classes, it is likely that it would be beneficial to reuse the \n",
    "information contained in the densely-connected layers of the original model. However, we will chose not to, in order to cover the more \n",
    "general case where the class set of the new problem does not overlap with the class set of the original model.\n",
    "\n",
    "为什么仅重复使用卷积基？我们能否也重复使用密集连接分类器？一般来说，应该避免这么做。原因在于卷积基学到的表示可能更加通用，因此更适合重复使用。卷积神经网络的特征图表示通用概念在图像中是否存在，无论面对什么样的计算机视觉问题，这种特征图都可能很有用。但是，分类器学到的表示必然是针对于模型训练的类别，其中仅包含某个类别出现在整张图像中的概率信息。此外，密集连接层的表示不再包含物体在输入图像中的位置信息。密集连接层舍弃了空间的概念，而物体位置信息仍然由卷积特征图所描述。如果物体位置对于问题 很重要，那么密集连接层的特征在很大程度上是无用的。\n",
    "\n",
    "注意，某个卷积层提取的表示的通用性（以及可复用性）取决于该层在模型中的深度。模型中更靠近底部的层提取的是局部的、高度通用的特征图（比如视觉边缘、颜色和纹理），而更靠近顶部的层提取的是更加抽象的概念（比如“猫耳朵”或“狗眼睛”）。 因此，如果你的新数据集与原始模型训练的数据集有很大差异，那么最好只使用模型的前几层来做特征提取，而不是使用整个卷积基。\n",
    "\n",
    "本例中，由于 ImageNet 的类别中包含多种狗和猫的类别，所以重复使用原始模型密集连接层中所包含的信息可能很有用。但我们选择不这么做，以便涵盖新问题的类别与原始模型的类别不一致的更一般情况。"
   ]
  },
  {
   "cell_type": "markdown",
   "metadata": {},
   "source": [
    "Let's put this in practice by using the convolutional base of the VGG16 network, trained on ImageNet, to extract interesting features from \n",
    "our cat and dog images, and then training a cat vs. dog classifier on top of these features.\n",
    "\n",
    "The VGG16 model, among others, comes pre-packaged with Keras. You can import it from the `keras.applications` module. Here's the list of \n",
    "image classification models (all pre-trained on the ImageNet dataset) that are available as part of `keras.applications`:\n",
    "\n",
    "* Xception\n",
    "* InceptionV3\n",
    "* ResNet50\n",
    "* VGG16\n",
    "* VGG19\n",
    "* MobileNet\n",
    "\n",
    "Let's instantiate the VGG16 model:\n",
    "\n",
    "我们来实践一下，使用在 ImageNet 上训练的 VGG16 网络的卷积基从 猫狗图像中提取有趣的特征，然后在这些特征上训练一个猫狗分类器。\n",
    "VGG16 等模型内置于 Keras 中。你可以从 keras.applications 模块中导入。下面是keras.applications 中的一部分图像分类模型（都是在 ImageNet 数据集上预训练得到的）：\n",
    "* Xception\n",
    "* Inception V3\n",
    "* ResNet50\n",
    "* VGG16\n",
    "* VGG19\n",
    "* MobileNet\n",
    "我们将 VGG16 模型实例化。\n"
   ]
  },
  {
   "cell_type": "code",
   "execution_count": 2,
   "metadata": {
    "ExecuteTime": {
     "end_time": "2019-01-29T01:18:58.007613Z",
     "start_time": "2019-01-29T01:18:55.200611Z"
    }
   },
   "outputs": [],
   "source": [
    "from keras.applications import VGG16\n",
    "\n",
    "conv_base = VGG16(weights='imagenet',\n",
    "                  include_top=False,\n",
    "                  input_shape=(150, 150, 3))"
   ]
  },
  {
   "cell_type": "markdown",
   "metadata": {},
   "source": [
    "We passed three arguments to the constructor:\n",
    "\n",
    "* `weights`, to specify which weight checkpoint to initialize the model from\n",
    "* `include_top`, which refers to including or not the densely-connected classifier on top of the network. By default, this \n",
    "densely-connected classifier would correspond to the 1000 classes from ImageNet. Since we intend to use our own densely-connected \n",
    "classifier (with only two classes, cat and dog), we don't need to include it.\n",
    "* `input_shape`, the shape of the image tensors that we will feed to the network. This argument is purely optional: if we don't pass it, \n",
    "then the network will be able to process inputs of any size.\n",
    "\n",
    "Here's the detail of the architecture of the VGG16 convolutional base: it's very similar to the simple convnets that you are already \n",
    "familiar with.\n",
    "\n",
    "这里向构造函数中传入了三个参数。\n",
    "* weights 指定模型初始化的权重检查点。\n",
    "* include_top 指定模型最后是否包含密集连接分类器。默认情况下，这个密集连接分类器对应于 ImageNet 的 1000 个类别。因为我们打算使用自己的密集连接分类器（只有 两个类别：cat 和 dog），所以不需要包含它。\n",
    "* input_shape 是输入到网络中的图像张量的形状。这个参数完全是可选的，如果不传入这个参数，那么网络能够处理任意形状的输入。\n",
    "VGG16 卷积基的详细架构如下所示。它和你已经熟悉的简单卷积神经网络很相似。\n"
   ]
  },
  {
   "cell_type": "code",
   "execution_count": 3,
   "metadata": {
    "ExecuteTime": {
     "end_time": "2019-01-29T01:19:01.378273Z",
     "start_time": "2019-01-29T01:19:01.370006Z"
    }
   },
   "outputs": [
    {
     "name": "stdout",
     "output_type": "stream",
     "text": [
      "_________________________________________________________________\n",
      "Layer (type)                 Output Shape              Param #   \n",
      "=================================================================\n",
      "input_1 (InputLayer)         (None, 150, 150, 3)       0         \n",
      "_________________________________________________________________\n",
      "block1_conv1 (Conv2D)        (None, 150, 150, 64)      1792      \n",
      "_________________________________________________________________\n",
      "block1_conv2 (Conv2D)        (None, 150, 150, 64)      36928     \n",
      "_________________________________________________________________\n",
      "block1_pool (MaxPooling2D)   (None, 75, 75, 64)        0         \n",
      "_________________________________________________________________\n",
      "block2_conv1 (Conv2D)        (None, 75, 75, 128)       73856     \n",
      "_________________________________________________________________\n",
      "block2_conv2 (Conv2D)        (None, 75, 75, 128)       147584    \n",
      "_________________________________________________________________\n",
      "block2_pool (MaxPooling2D)   (None, 37, 37, 128)       0         \n",
      "_________________________________________________________________\n",
      "block3_conv1 (Conv2D)        (None, 37, 37, 256)       295168    \n",
      "_________________________________________________________________\n",
      "block3_conv2 (Conv2D)        (None, 37, 37, 256)       590080    \n",
      "_________________________________________________________________\n",
      "block3_conv3 (Conv2D)        (None, 37, 37, 256)       590080    \n",
      "_________________________________________________________________\n",
      "block3_pool (MaxPooling2D)   (None, 18, 18, 256)       0         \n",
      "_________________________________________________________________\n",
      "block4_conv1 (Conv2D)        (None, 18, 18, 512)       1180160   \n",
      "_________________________________________________________________\n",
      "block4_conv2 (Conv2D)        (None, 18, 18, 512)       2359808   \n",
      "_________________________________________________________________\n",
      "block4_conv3 (Conv2D)        (None, 18, 18, 512)       2359808   \n",
      "_________________________________________________________________\n",
      "block4_pool (MaxPooling2D)   (None, 9, 9, 512)         0         \n",
      "_________________________________________________________________\n",
      "block5_conv1 (Conv2D)        (None, 9, 9, 512)         2359808   \n",
      "_________________________________________________________________\n",
      "block5_conv2 (Conv2D)        (None, 9, 9, 512)         2359808   \n",
      "_________________________________________________________________\n",
      "block5_conv3 (Conv2D)        (None, 9, 9, 512)         2359808   \n",
      "_________________________________________________________________\n",
      "block5_pool (MaxPooling2D)   (None, 4, 4, 512)         0         \n",
      "=================================================================\n",
      "Total params: 14,714,688\n",
      "Trainable params: 14,714,688\n",
      "Non-trainable params: 0\n",
      "_________________________________________________________________\n"
     ]
    }
   ],
   "source": [
    "conv_base.summary()"
   ]
  },
  {
   "cell_type": "markdown",
   "metadata": {},
   "source": [
    "The final feature map has shape `(4, 4, 512)`. That's the feature on top of which we will stick a densely-connected classifier.\n",
    "\n",
    "At this point, there are two ways we could proceed: \n",
    "\n",
    "* Running the convolutional base over our dataset, recording its output to a Numpy array on disk, then using this data as input to a \n",
    "standalone densely-connected classifier similar to those you have seen in the first chapters of this book. This solution is very fast and \n",
    "cheap to run, because it only requires running the convolutional base once for every input image, and the convolutional base is by far the \n",
    "most expensive part of the pipeline. However, for the exact same reason, this technique would not allow us to leverage data augmentation at \n",
    "all.\n",
    "* Extending the model we have (`conv_base`) by adding `Dense` layers on top, and running the whole thing end-to-end on the input data. This \n",
    "allows us to use data augmentation, because every input image is going through the convolutional base every time it is seen by the model. \n",
    "However, for this same reason, this technique is far more expensive than the first one.\n",
    "\n",
    "We will cover both techniques. Let's walk through the code required to set-up the first one: recording the output of `conv_base` on our \n",
    "data and using these outputs as inputs to a new model.\n",
    "\n",
    "We will start by simply running instances of the previously-introduced `ImageDataGenerator` to extract images as Numpy arrays as well as \n",
    "their labels. We will extract features from these images simply by calling the `predict` method of the `conv_base` model.\n",
    "\n",
    "最后的特征图形状为 (4, 4, 512)。我们将在这个特征上添加一个密集连接分类器。 接下来，下一步有两种方法可供选择。\n",
    "* 在你的数据集上运行卷积基，将输出保存成硬盘中的 Numpy 数组，然后用这个数据作 为输入，输入到独立的密集连接分类器中（与本书第一部分介绍的分类器类似）。这种 方法速度快，计算代价低，因为对于每个输入图像只需运行一次卷积基，而卷积基是目 前流程中计算代价最高的。但出于同样的原因，这种方法不允许你使用数据增强。\n",
    "* 在顶部添加 Dense 层来扩展已有模型（即 conv_base），并在输入数据上端到端地运行 整个模型。这样你可以使用数据增强，因为每个输入图像进入模型时都会经过卷积基。但出于同样的原因，这种方法的计算代价比第一种要高很多。\n",
    "\n",
    "这两种方法我们都会介绍。首先来看第一种方法的代码：保存你的数据在 conv_base 中的输出，然后将这些输出作为输入用于新模型。\n"
   ]
  },
  {
   "cell_type": "code",
   "execution_count": 4,
   "metadata": {
    "ExecuteTime": {
     "end_time": "2019-01-29T01:21:27.018867Z",
     "start_time": "2019-01-29T01:19:05.899944Z"
    }
   },
   "outputs": [
    {
     "name": "stdout",
     "output_type": "stream",
     "text": [
      "Found 2000 images belonging to 2 classes.\n",
      "Found 1000 images belonging to 2 classes.\n",
      "Found 1000 images belonging to 2 classes.\n"
     ]
    }
   ],
   "source": [
    "import os\n",
    "import numpy as np\n",
    "from keras.preprocessing.image import ImageDataGenerator\n",
    "\n",
    "base_dir = 'data/cats_and_dogs_small'\n",
    "\n",
    "train_dir = os.path.join(base_dir, 'train')\n",
    "validation_dir = os.path.join(base_dir, 'validation')\n",
    "test_dir = os.path.join(base_dir, 'test')\n",
    "\n",
    "datagen = ImageDataGenerator(rescale=1./255)\n",
    "batch_size = 20\n",
    "\n",
    "def extract_features(directory, sample_count):\n",
    "    features = np.zeros(shape=(sample_count, 4, 4, 512))\n",
    "    labels = np.zeros(shape=(sample_count))\n",
    "    generator = datagen.flow_from_directory(\n",
    "        directory,\n",
    "        target_size=(150, 150),\n",
    "        batch_size=batch_size,\n",
    "        class_mode='binary')\n",
    "    i = 0\n",
    "    for inputs_batch, labels_batch in generator:\n",
    "        features_batch = conv_base.predict(inputs_batch)\n",
    "        features[i * batch_size : (i + 1) * batch_size] = features_batch\n",
    "        labels[i * batch_size : (i + 1) * batch_size] = labels_batch\n",
    "        i += 1\n",
    "        if i * batch_size >= sample_count:\n",
    "            # Note that since generators yield data indefinitely in a loop,\n",
    "            # we must `break` after every image has been seen once.\n",
    "            #注意，这些生成器在循环中不断生成数据，所以你必须在读取完所有图像后终止循环\n",
    "            break\n",
    "    return features, labels\n",
    "\n",
    "train_features, train_labels = extract_features(train_dir, 2000)\n",
    "validation_features, validation_labels = extract_features(validation_dir, 1000)\n",
    "test_features, test_labels = extract_features(test_dir, 1000)"
   ]
  },
  {
   "cell_type": "markdown",
   "metadata": {},
   "source": [
    "The extracted features are currently of shape `(samples, 4, 4, 512)`. We will feed them to a densely-connected classifier, so first we must \n",
    "flatten them to `(samples, 8192)`:\n",
    "\n",
    "目前，提取的特征形状为 (samples, 4, 4, 512)。我们要将其输入到密集连接分类器中， 所以首先必须将其形状展平为 (samples, 8192)。"
   ]
  },
  {
   "cell_type": "code",
   "execution_count": 5,
   "metadata": {
    "ExecuteTime": {
     "end_time": "2019-01-29T01:21:27.096817Z",
     "start_time": "2019-01-29T01:21:27.089254Z"
    }
   },
   "outputs": [],
   "source": [
    "train_features = np.reshape(train_features, (2000, 4 * 4 * 512))\n",
    "validation_features = np.reshape(validation_features, (1000, 4 * 4 * 512))\n",
    "test_features = np.reshape(test_features, (1000, 4 * 4 * 512))"
   ]
  },
  {
   "cell_type": "markdown",
   "metadata": {},
   "source": [
    "At this point, we can define our densely-connected classifier (note the use of dropout for regularization), and train it on the data and \n",
    "labels that we just recorded:\n",
    "\n",
    "现在你可以定义你的密集连接分类器（注意要使用 dropout 正则化），并在刚刚保存的数据和标签上训练这个分类器。"
   ]
  },
  {
   "cell_type": "code",
   "execution_count": 6,
   "metadata": {
    "ExecuteTime": {
     "end_time": "2019-01-29T01:22:23.695873Z",
     "start_time": "2019-01-29T01:21:30.946121Z"
    },
    "scrolled": true
   },
   "outputs": [
    {
     "name": "stdout",
     "output_type": "stream",
     "text": [
      "Train on 2000 samples, validate on 1000 samples\n",
      "Epoch 1/30\n",
      "2000/2000 [==============================] - 2s 1ms/step - loss: 0.5879 - acc: 0.6915 - val_loss: 0.4312 - val_acc: 0.8290\n",
      "Epoch 2/30\n",
      "2000/2000 [==============================] - 2s 866us/step - loss: 0.4309 - acc: 0.7975 - val_loss: 0.3643 - val_acc: 0.8530\n",
      "Epoch 3/30\n",
      "2000/2000 [==============================] - 2s 836us/step - loss: 0.3675 - acc: 0.8440 - val_loss: 0.3273 - val_acc: 0.8700\n",
      "Epoch 4/30\n",
      "2000/2000 [==============================] - 2s 837us/step - loss: 0.3183 - acc: 0.8660 - val_loss: 0.3001 - val_acc: 0.8810\n",
      "Epoch 5/30\n",
      "2000/2000 [==============================] - 2s 853us/step - loss: 0.2856 - acc: 0.8815 - val_loss: 0.2916 - val_acc: 0.8790\n",
      "Epoch 6/30\n",
      "2000/2000 [==============================] - 2s 860us/step - loss: 0.2750 - acc: 0.8835 - val_loss: 0.2782 - val_acc: 0.8870\n",
      "Epoch 7/30\n",
      "2000/2000 [==============================] - 2s 843us/step - loss: 0.2460 - acc: 0.9060 - val_loss: 0.2722 - val_acc: 0.8840\n",
      "Epoch 8/30\n",
      "2000/2000 [==============================] - 2s 862us/step - loss: 0.2368 - acc: 0.9060 - val_loss: 0.2626 - val_acc: 0.8930\n",
      "Epoch 9/30\n",
      "2000/2000 [==============================] - 2s 851us/step - loss: 0.2231 - acc: 0.9180 - val_loss: 0.2581 - val_acc: 0.9020\n",
      "Epoch 10/30\n",
      "2000/2000 [==============================] - 2s 847us/step - loss: 0.2112 - acc: 0.9200 - val_loss: 0.2516 - val_acc: 0.8940\n",
      "Epoch 11/30\n",
      "2000/2000 [==============================] - 2s 828us/step - loss: 0.2009 - acc: 0.9225 - val_loss: 0.2486 - val_acc: 0.8930\n",
      "Epoch 12/30\n",
      "2000/2000 [==============================] - 2s 833us/step - loss: 0.1918 - acc: 0.9340 - val_loss: 0.2532 - val_acc: 0.8910\n",
      "Epoch 13/30\n",
      "2000/2000 [==============================] - 2s 833us/step - loss: 0.1762 - acc: 0.9370 - val_loss: 0.2447 - val_acc: 0.9000\n",
      "Epoch 14/30\n",
      "2000/2000 [==============================] - 2s 897us/step - loss: 0.1753 - acc: 0.9345 - val_loss: 0.2426 - val_acc: 0.8970\n",
      "Epoch 15/30\n",
      "2000/2000 [==============================] - 2s 840us/step - loss: 0.1632 - acc: 0.9435 - val_loss: 0.2438 - val_acc: 0.8960\n",
      "Epoch 16/30\n",
      "2000/2000 [==============================] - 2s 848us/step - loss: 0.1560 - acc: 0.9445 - val_loss: 0.2414 - val_acc: 0.8960\n",
      "Epoch 17/30\n",
      "2000/2000 [==============================] - 2s 1ms/step - loss: 0.1559 - acc: 0.9485 - val_loss: 0.2427 - val_acc: 0.8960\n",
      "Epoch 18/30\n",
      "2000/2000 [==============================] - 2s 847us/step - loss: 0.1480 - acc: 0.9440 - val_loss: 0.2384 - val_acc: 0.9030\n",
      "Epoch 19/30\n",
      "2000/2000 [==============================] - 2s 857us/step - loss: 0.1384 - acc: 0.9505 - val_loss: 0.2385 - val_acc: 0.9000\n",
      "Epoch 20/30\n",
      "2000/2000 [==============================] - 2s 920us/step - loss: 0.1333 - acc: 0.9545 - val_loss: 0.2423 - val_acc: 0.9000\n",
      "Epoch 21/30\n",
      "2000/2000 [==============================] - 2s 875us/step - loss: 0.1273 - acc: 0.9580 - val_loss: 0.2391 - val_acc: 0.9020\n",
      "Epoch 22/30\n",
      "2000/2000 [==============================] - 2s 831us/step - loss: 0.1157 - acc: 0.9615 - val_loss: 0.2383 - val_acc: 0.9030\n",
      "Epoch 23/30\n",
      "2000/2000 [==============================] - 2s 831us/step - loss: 0.1197 - acc: 0.9615 - val_loss: 0.2375 - val_acc: 0.9030\n",
      "Epoch 24/30\n",
      "2000/2000 [==============================] - 2s 832us/step - loss: 0.1123 - acc: 0.9645 - val_loss: 0.2464 - val_acc: 0.9010\n",
      "Epoch 25/30\n",
      "2000/2000 [==============================] - 2s 835us/step - loss: 0.1081 - acc: 0.9675 - val_loss: 0.2458 - val_acc: 0.9000\n",
      "Epoch 26/30\n",
      "2000/2000 [==============================] - 2s 829us/step - loss: 0.1020 - acc: 0.9680 - val_loss: 0.2395 - val_acc: 0.9040\n",
      "Epoch 27/30\n",
      "2000/2000 [==============================] - 2s 829us/step - loss: 0.0974 - acc: 0.9665 - val_loss: 0.2407 - val_acc: 0.9020\n",
      "Epoch 28/30\n",
      "2000/2000 [==============================] - 2s 832us/step - loss: 0.0959 - acc: 0.9675 - val_loss: 0.2431 - val_acc: 0.9000\n",
      "Epoch 29/30\n",
      "2000/2000 [==============================] - 2s 832us/step - loss: 0.0929 - acc: 0.9720 - val_loss: 0.2467 - val_acc: 0.8990\n",
      "Epoch 30/30\n",
      "2000/2000 [==============================] - 2s 906us/step - loss: 0.0854 - acc: 0.9725 - val_loss: 0.2445 - val_acc: 0.9030\n"
     ]
    }
   ],
   "source": [
    "from keras import models\n",
    "from keras import layers\n",
    "from keras import optimizers\n",
    "\n",
    "model = models.Sequential()\n",
    "model.add(layers.Dense(256, activation='relu', input_dim=4 * 4 * 512))\n",
    "model.add(layers.Dropout(0.5))\n",
    "model.add(layers.Dense(1, activation='sigmoid'))\n",
    "\n",
    "model.compile(optimizer=optimizers.RMSprop(lr=2e-5),\n",
    "              loss='binary_crossentropy',\n",
    "              metrics=['acc'])\n",
    "\n",
    "history = model.fit(train_features, train_labels,\n",
    "                    epochs=30,\n",
    "                    batch_size=20,\n",
    "                    validation_data=(validation_features, validation_labels))"
   ]
  },
  {
   "cell_type": "markdown",
   "metadata": {},
   "source": [
    "Training is very fast, since we only have to deal with two `Dense` layers -- an epoch takes less than one second even on CPU.\n",
    "\n",
    "Let's take a look at the loss and accuracy curves during training:\n",
    "\n",
    "训练速度非常快，因为你只需处理两个 Dense 层。即使在 CPU 上运行，每轮的时间也不到一秒钟。\n",
    "\n",
    "我们来看一下训练期间的损失曲线和精度曲线\n"
   ]
  },
  {
   "cell_type": "code",
   "execution_count": 8,
   "metadata": {
    "ExecuteTime": {
     "end_time": "2019-01-29T01:22:35.752582Z",
     "start_time": "2019-01-29T01:22:35.410590Z"
    }
   },
   "outputs": [
    {
     "data": {
      "image/png": "[encoded data removed]",
      "text/plain": [
       "<Figure size 432x288 with 1 Axes>"
      ]
     },
     "metadata": {},
     "output_type": "display_data"
    },
    {
     "data": {
      "image/png": "[encoded data removed]",
      "text/plain": [
       "<Figure size 432x288 with 1 Axes>"
      ]
     },
     "metadata": {},
     "output_type": "display_data"
    }
   ],
   "source": [
    "import matplotlib.pyplot as plt\n",
    "\n",
    "acc = history.history['acc']\n",
    "val_acc = history.history['val_acc']\n",
    "loss = history.history['loss']\n",
    "val_loss = history.history['val_loss']\n",
    "\n",
    "epochs = range(len(acc))\n",
    "\n",
    "plt.plot(epochs, acc, 'bo', label='Training acc')\n",
    "plt.plot(epochs, val_acc, 'b', label='Validation acc')\n",
    "plt.title('Training and validation accuracy')\n",
    "plt.legend()\n",
    "\n",
    "plt.figure()\n",
    "\n",
    "plt.plot(epochs, loss, 'bo', label='Training loss')\n",
    "plt.plot(epochs, val_loss, 'b', label='Validation loss')\n",
    "plt.title('Training and validation loss')\n",
    "plt.legend()\n",
    "\n",
    "plt.show()"
   ]
  },
  {
   "cell_type": "markdown",
   "metadata": {},
   "source": [
    "\n",
    "We reach a validation accuracy of about 90%, much better than what we could achieve in the previous section with our small model trained from \n",
    "scratch. However, our plots also indicate that we are overfitting almost from the start -- despite using dropout with a fairly large rate. \n",
    "This is because this technique does not leverage data augmentation, which is essential to preventing overfitting with small image datasets.\n",
    "\n",
    "Now, let's review the second technique we mentioned for doing feature extraction, which is much slower and more expensive, but which allows \n",
    "us to leverage data augmentation during training: extending the `conv_base` model and running it end-to-end on the inputs. Note that this \n",
    "technique is in fact so expensive that you should only attempt it if you have access to a GPU: it is absolutely intractable on CPU. If you \n",
    "cannot run your code on GPU, then the previous technique is the way to go.\n",
    "\n",
    "Because models behave just like layers, you can add a model (like our `conv_base`) to a `Sequential` model just like you would add a layer. \n",
    "So you can do the following:\n",
    "\n",
    "我们的验证精度达到了约 90%，比上一节从头开始训练的小型模型效果要好得多。但从图中也可以看出，虽然 dropout 比率相当大，但模型几乎从一开始就过拟合。这是因为本方法没有使用数据增强，而数据增强对防止小型图像数据集的过拟合非常重要。\n",
    "\n",
    "下面我们来看一下特征提取的第二种方法，它的速度更慢，计算代价更高，但在训练期间可以使用数据增强。这种方法就是：扩展 conv_base 模型，然后在输入数据上端到端地运行模型。\n",
    "\n",
    "模型的行为和层类似，所以你可以向 Sequential 模型中添加一个模型（比如 conv_base），就像添加一个层一样。\n",
    "\n"
   ]
  },
  {
   "cell_type": "code",
   "execution_count": 9,
   "metadata": {
    "ExecuteTime": {
     "end_time": "2019-01-29T01:23:05.844254Z",
     "start_time": "2019-01-29T01:23:05.754240Z"
    }
   },
   "outputs": [],
   "source": [
    "from keras import models\n",
    "from keras import layers\n",
    "\n",
    "model = models.Sequential()\n",
    "model.add(conv_base)\n",
    "model.add(layers.Flatten())\n",
    "model.add(layers.Dense(256, activation='relu'))\n",
    "model.add(layers.Dense(1, activation='sigmoid'))"
   ]
  },
  {
   "cell_type": "markdown",
   "metadata": {},
   "source": [
    "This is what our model looks like now:\n",
    "\n",
    "现在模型的架构如下所示。"
   ]
  },
  {
   "cell_type": "code",
   "execution_count": 10,
   "metadata": {
    "ExecuteTime": {
     "end_time": "2019-01-29T01:23:08.959964Z",
     "start_time": "2019-01-29T01:23:08.952885Z"
    }
   },
   "outputs": [
    {
     "name": "stdout",
     "output_type": "stream",
     "text": [
      "_________________________________________________________________\n",
      "Layer (type)                 Output Shape              Param #   \n",
      "=================================================================\n",
      "vgg16 (Model)                (None, 4, 4, 512)         14714688  \n",
      "_________________________________________________________________\n",
      "flatten_1 (Flatten)          (None, 8192)              0         \n",
      "_________________________________________________________________\n",
      "dense_3 (Dense)              (None, 256)               2097408   \n",
      "_________________________________________________________________\n",
      "dense_4 (Dense)              (None, 1)                 257       \n",
      "=================================================================\n",
      "Total params: 16,812,353\n",
      "Trainable params: 16,812,353\n",
      "Non-trainable params: 0\n",
      "_________________________________________________________________\n"
     ]
    }
   ],
   "source": [
    "model.summary()"
   ]
  },
  {
   "cell_type": "markdown",
   "metadata": {},
   "source": [
    "As you can see, the convolutional base of VGG16 has 14,714,688 parameters, which is very large. The classifier we are adding on top has 2 \n",
    "million parameters.\n",
    "\n",
    "Before we compile and train our model, a very important thing to do is to freeze the convolutional base. \"Freezing\" a layer or set of \n",
    "layers means preventing their weights from getting updated during training. If we don't do this, then the representations that were \n",
    "previously learned by the convolutional base would get modified during training. Since the `Dense` layers on top are randomly initialized, \n",
    "very large weight updates would be propagated through the network, effectively destroying the representations previously learned.\n",
    "\n",
    "In Keras, freezing a network is done by setting its `trainable` attribute to `False`:\n",
    "\n",
    "如你所见，VGG16 的卷积基有 14 714 688 个参数，非常多。在其上添加的分类器有 200 万个参数。\n",
    "\n",
    "在编译和训练模型之前，一定要“冻结”卷积基。冻结（freeze）一个或多个层是指在训练 过程中保持其权重不变。如果不这么做，那么卷积基之前学到的表示将会在训练过程中被修改。 因为其上添加的 Dense 层是随机初始化的，所以非常大的权重更新将会在网络中传播，对之前学到的表示造成很大破坏。\n",
    "\n",
    "在 Keras 中，冻结网络的方法是将其 trainable 属性设为 False。\n"
   ]
  },
  {
   "cell_type": "code",
   "execution_count": 14,
   "metadata": {
    "ExecuteTime": {
     "end_time": "2019-01-29T01:27:39.049197Z",
     "start_time": "2019-01-29T01:27:39.046192Z"
    }
   },
   "outputs": [
    {
     "name": "stdout",
     "output_type": "stream",
     "text": [
      "This is the number of trainable weights before freezing the conv base: 30\n"
     ]
    }
   ],
   "source": [
    "print('This is the number of trainable weights '\n",
    "      'before freezing the conv base:', len(model.trainable_weights))"
   ]
  },
  {
   "cell_type": "code",
   "execution_count": 15,
   "metadata": {
    "ExecuteTime": {
     "end_time": "2019-01-29T01:27:52.265396Z",
     "start_time": "2019-01-29T01:27:52.262086Z"
    }
   },
   "outputs": [],
   "source": [
    "conv_base.trainable = False"
   ]
  },
  {
   "cell_type": "code",
   "execution_count": 16,
   "metadata": {
    "ExecuteTime": {
     "end_time": "2019-01-29T01:27:53.308836Z",
     "start_time": "2019-01-29T01:27:53.305840Z"
    }
   },
   "outputs": [
    {
     "name": "stdout",
     "output_type": "stream",
     "text": [
      "This is the number of trainable weights after freezing the conv base: 4\n"
     ]
    }
   ],
   "source": [
    "print('This is the number of trainable weights '\n",
    "      'after freezing the conv base:', len(model.trainable_weights))"
   ]
  },
  {
   "cell_type": "markdown",
   "metadata": {},
   "source": [
    "With this setup, only the weights from the two `Dense` layers that we added will be trained. That's a total of four weight tensors: two per \n",
    "layer (the main weight matrix and the bias vector). Note that in order for these changes to take effect, we must first compile the model. \n",
    "If you ever modify weight trainability after compilation, you should then re-compile the model, or these changes would be ignored.\n",
    "\n",
    "Now we can start training our model, with the same data augmentation configuration that we used in our previous example:\n",
    "\n",
    "如此设置之后，只有添加的两个 Dense 层的权重才会被训练。总共有 4 个权重张量，每层2 个（主权重矩阵和偏置向量）。注意，为了让这些修改生效，你必须先编译模型。如果在编译之后修改了权重的 trainable 属性，那么应该重新编译模型，否则这些修改将被忽略。\n",
    " \n",
    "现在你可以开始训练模型了，使用和前一个例子相同的数据增强设置。\n"
   ]
  },
  {
   "cell_type": "code",
   "execution_count": 17,
   "metadata": {
    "ExecuteTime": {
     "end_time": "2019-01-29T01:51:23.067208Z",
     "start_time": "2019-01-29T01:28:17.207389Z"
    },
    "scrolled": true
   },
   "outputs": [
    {
     "name": "stdout",
     "output_type": "stream",
     "text": [
      "Found 2000 images belonging to 2 classes.\n",
      "Found 1000 images belonging to 2 classes.\n",
      "Epoch 1/30\n",
      " - 47s - loss: 0.5876 - acc: 0.7010 - val_loss: 0.4451 - val_acc: 0.8200\n",
      "Epoch 2/30\n",
      " - 46s - loss: 0.4781 - acc: 0.7800 - val_loss: 0.3664 - val_acc: 0.8520\n",
      "Epoch 3/30\n",
      " - 46s - loss: 0.4230 - acc: 0.8130 - val_loss: 0.3362 - val_acc: 0.8620\n",
      "Epoch 4/30\n",
      " - 46s - loss: 0.4041 - acc: 0.8195 - val_loss: 0.3115 - val_acc: 0.8700\n",
      "Epoch 5/30\n",
      " - 46s - loss: 0.3848 - acc: 0.8320 - val_loss: 0.2969 - val_acc: 0.8790\n",
      "Epoch 6/30\n",
      " - 46s - loss: 0.3630 - acc: 0.8385 - val_loss: 0.2912 - val_acc: 0.8850\n",
      "Epoch 7/30\n",
      " - 46s - loss: 0.3662 - acc: 0.8335 - val_loss: 0.2773 - val_acc: 0.8910\n",
      "Epoch 8/30\n",
      " - 46s - loss: 0.3510 - acc: 0.8465 - val_loss: 0.2708 - val_acc: 0.8930\n",
      "Epoch 9/30\n",
      " - 46s - loss: 0.3400 - acc: 0.8465 - val_loss: 0.2636 - val_acc: 0.8980\n",
      "Epoch 10/30\n",
      " - 46s - loss: 0.3241 - acc: 0.8655 - val_loss: 0.2636 - val_acc: 0.8980\n",
      "Epoch 11/30\n",
      " - 46s - loss: 0.3388 - acc: 0.8485 - val_loss: 0.2560 - val_acc: 0.8920\n",
      "Epoch 12/30\n",
      " - 46s - loss: 0.3417 - acc: 0.8470 - val_loss: 0.2532 - val_acc: 0.8940\n",
      "Epoch 13/30\n",
      " - 46s - loss: 0.3259 - acc: 0.8505 - val_loss: 0.2546 - val_acc: 0.8900\n",
      "Epoch 14/30\n",
      " - 46s - loss: 0.3043 - acc: 0.8730 - val_loss: 0.2628 - val_acc: 0.8830\n",
      "Epoch 15/30\n",
      " - 46s - loss: 0.3128 - acc: 0.8670 - val_loss: 0.2538 - val_acc: 0.8890\n",
      "Epoch 16/30\n",
      " - 46s - loss: 0.3051 - acc: 0.8725 - val_loss: 0.2679 - val_acc: 0.8810\n",
      "Epoch 17/30\n",
      " - 46s - loss: 0.3159 - acc: 0.8700 - val_loss: 0.2442 - val_acc: 0.9010\n",
      "Epoch 18/30\n",
      " - 46s - loss: 0.2925 - acc: 0.8730 - val_loss: 0.2423 - val_acc: 0.9060\n",
      "Epoch 19/30\n",
      " - 46s - loss: 0.3091 - acc: 0.8615 - val_loss: 0.2441 - val_acc: 0.9000\n",
      "Epoch 20/30\n",
      " - 46s - loss: 0.2867 - acc: 0.8790 - val_loss: 0.2581 - val_acc: 0.8970\n",
      "Epoch 21/30\n",
      " - 46s - loss: 0.2963 - acc: 0.8705 - val_loss: 0.2415 - val_acc: 0.9090\n",
      "Epoch 22/30\n",
      " - 46s - loss: 0.2970 - acc: 0.8680 - val_loss: 0.2407 - val_acc: 0.9000\n",
      "Epoch 23/30\n",
      " - 46s - loss: 0.2944 - acc: 0.8795 - val_loss: 0.2421 - val_acc: 0.8970\n",
      "Epoch 24/30\n",
      " - 46s - loss: 0.2973 - acc: 0.8730 - val_loss: 0.2468 - val_acc: 0.9060\n",
      "Epoch 25/30\n",
      " - 46s - loss: 0.3021 - acc: 0.8745 - val_loss: 0.2607 - val_acc: 0.8980\n",
      "Epoch 26/30\n",
      " - 46s - loss: 0.2872 - acc: 0.8770 - val_loss: 0.2404 - val_acc: 0.9070\n",
      "Epoch 27/30\n",
      " - 46s - loss: 0.2761 - acc: 0.8850 - val_loss: 0.2491 - val_acc: 0.8890\n",
      "Epoch 28/30\n",
      " - 46s - loss: 0.2892 - acc: 0.8725 - val_loss: 0.2388 - val_acc: 0.9060\n",
      "Epoch 29/30\n",
      " - 46s - loss: 0.2849 - acc: 0.8790 - val_loss: 0.2388 - val_acc: 0.8990\n",
      "Epoch 30/30\n",
      " - 46s - loss: 0.2766 - acc: 0.8825 - val_loss: 0.2439 - val_acc: 0.9110\n"
     ]
    }
   ],
   "source": [
    "from keras.preprocessing.image import ImageDataGenerator\n",
    "\n",
    "train_datagen = ImageDataGenerator(\n",
    "      rescale=1./255,\n",
    "      rotation_range=40,\n",
    "      width_shift_range=0.2,\n",
    "      height_shift_range=0.2,\n",
    "      shear_range=0.2,\n",
    "      zoom_range=0.2,\n",
    "      horizontal_flip=True,\n",
    "      fill_mode='nearest')\n",
    "\n",
    "# Note that the validation data should not be augmented!\n",
    "# 注意，不能增强验证数据\n",
    "test_datagen = ImageDataGenerator(rescale=1./255)\n",
    "\n",
    "train_generator = train_datagen.flow_from_directory(\n",
    "        # This is the target directory（目标目录）\n",
    "        train_dir,\n",
    "        # All images will be resized to 150x150（将所有图像的大小调整为 150×150）\n",
    "        target_size=(150, 150),\n",
    "        batch_size=20,\n",
    "        # Since we use binary_crossentropy loss, we need binary labels\n",
    "#         因为使用了 binary_crossentropy损失，所以需要用二进制标签\n",
    "        class_mode='binary')\n",
    "\n",
    "validation_generator = test_datagen.flow_from_directory(\n",
    "        validation_dir,\n",
    "        target_size=(150, 150),\n",
    "        batch_size=20,\n",
    "        class_mode='binary')\n",
    "\n",
    "model.compile(loss='binary_crossentropy',\n",
    "              optimizer=optimizers.RMSprop(lr=2e-5),\n",
    "              metrics=['acc'])\n",
    "\n",
    "history = model.fit_generator(\n",
    "      train_generator,\n",
    "      steps_per_epoch=100,\n",
    "      epochs=30,\n",
    "      validation_data=validation_generator,\n",
    "      validation_steps=50,\n",
    "      verbose=2)"
   ]
  },
  {
   "cell_type": "code",
   "execution_count": 18,
   "metadata": {
    "ExecuteTime": {
     "end_time": "2019-01-29T01:51:23.553211Z",
     "start_time": "2019-01-29T01:51:23.143212Z"
    }
   },
   "outputs": [],
   "source": [
    "model.save('models/cats_and_dogs_small_3.h5')"
   ]
  },
  {
   "cell_type": "markdown",
   "metadata": {},
   "source": [
    "Let's plot our results again:\n",
    "\n",
    "再次绘制结果看看。"
   ]
  },
  {
   "cell_type": "code",
   "execution_count": 19,
   "metadata": {
    "ExecuteTime": {
     "end_time": "2019-01-29T01:52:12.311847Z",
     "start_time": "2019-01-29T01:52:11.810848Z"
    }
   },
   "outputs": [
    {
     "data": {
      "image/png": "[encoded data removed]",
      "text/plain": [
       "<Figure size 432x288 with 1 Axes>"
      ]
     },
     "metadata": {},
     "output_type": "display_data"
    },
    {
     "data": {
      "image/png": "[encoded data removed]",
      "text/plain": [
       "<Figure size 432x288 with 1 Axes>"
      ]
     },
     "metadata": {},
     "output_type": "display_data"
    }
   ],
   "source": [
    "acc = history.history['acc']\n",
    "val_acc = history.history['val_acc']\n",
    "loss = history.history['loss']\n",
    "val_loss = history.history['val_loss']\n",
    "\n",
    "epochs = range(len(acc))\n",
    "\n",
    "plt.plot(epochs, acc, 'bo', label='Training acc')\n",
    "plt.plot(epochs, val_acc, 'b', label='Validation acc')\n",
    "plt.title('Training and validation accuracy')\n",
    "plt.legend()\n",
    "\n",
    "plt.figure()\n",
    "\n",
    "plt.plot(epochs, loss, 'bo', label='Training loss')\n",
    "plt.plot(epochs, val_loss, 'b', label='Validation loss')\n",
    "plt.title('Training and validation loss')\n",
    "plt.legend()\n",
    "\n",
    "plt.show()"
   ]
  },
  {
   "cell_type": "markdown",
   "metadata": {},
   "source": [
    "As you can see, we reach a validation accuracy of about 96%. This is much better than our small convnet trained from scratch.\n",
    "\n",
    "我们来再次绘制结果。如你所见，验证精度约为 96%。这比从头开始训练的小型卷积神经网络要好得多。\n"
   ]
  },
  {
   "cell_type": "markdown",
   "metadata": {},
   "source": [
    "## Fine-tuning\n",
    "\n",
    "Another widely used technique for model reuse, complementary to feature extraction, is _fine-tuning_. \n",
    "Fine-tuning consists in unfreezing a few of the top layers \n",
    "of a frozen model base used for feature extraction, and jointly training both the newly added part of the model (in our case, the \n",
    "fully-connected classifier) and these top layers. This is called \"fine-tuning\" because it slightly adjusts the more abstract \n",
    "representations of the model being reused, in order to make them more relevant for the problem at hand.\n",
    "\n",
    "## 微调模型\n",
    "\n",
    "另一种广泛使用的模型复用方法是模型微调（fine-tuning），与特征提取互为补充。对于用于特征提取的冻结的模型基，微调是指将其顶部的几层“解冻”，并将这解冻的几层和新增加的部分（本例中是全连接分类器）联合训练（见下图）。之所以叫作微调，是因为它只是略微调整了所复用模型中更加抽象的表示，以便让这些表示与手头的问题更加相关。\n",
    "\n",
    "\n",
    "![fine-tuning VGG16](data/vgg16_fine_tuning.png)"
   ]
  },
  {
   "cell_type": "markdown",
   "metadata": {},
   "source": [
    "We have stated before that it was necessary to freeze the convolution base of VGG16 in order to be able to train a randomly initialized \n",
    "classifier on top. For the same reason, it is only possible to fine-tune the top layers of the convolutional base once the classifier on \n",
    "top has already been trained. If the classified wasn't already trained, then the error signal propagating through the network during \n",
    "training would be too large, and the representations previously learned by the layers being fine-tuned would be destroyed. Thus the steps \n",
    "for fine-tuning a network are as follow:\n",
    "\n",
    "* 1) Add your custom network on top of an already trained base network.\n",
    "* 2) Freeze the base network.\n",
    "* 3) Train the part you added.\n",
    "* 4) Unfreeze some layers in the base network.\n",
    "* 5) Jointly train both these layers and the part you added.\n",
    "\n",
    "We have already completed the first 3 steps when doing feature extraction. Let's proceed with the 4th step: we will unfreeze our `conv_base`, \n",
    "and then freeze individual layers inside of it.\n",
    "\n",
    "As a reminder, this is what our convolutional base looks like:\n",
    "\n",
    "前面说过，冻结 VGG16 的卷积基是为了能够在上面训练一个随机初始化的分类器。同理， 只有上面的分类器已经训练好了，才能微调卷积基的顶部几层。如果分类器没有训练好，那么训练期间通过网络传播的误差信号会特别大，微调的几层之前学到的表示都会被破坏。因此，微调网络的步骤如下。\n",
    "* (1) 在已经训练好的基网络（base network）上添加自定义网络。\n",
    "* (2) 冻结基网络。\n",
    "* (3) 训练所添加的部分。\n",
    "* (4) 解冻基网络的一些层。\n",
    "* (5) 联合训练解冻的这些层和添加的部分。 你在做特征提取时已经完成了前三个步骤。我们继续进行第四步：先解冻 conv_base，然后冻结其中的部分层。 \n",
    "\n",
    "提醒一下，卷积基的架构如下所示。\n"
   ]
  },
  {
   "cell_type": "code",
   "execution_count": 24,
   "metadata": {},
   "outputs": [
    {
     "name": "stdout",
     "output_type": "stream",
     "text": [
      "_________________________________________________________________\n",
      "Layer (type)                 Output Shape              Param #   \n",
      "=================================================================\n",
      "input_1 (InputLayer)         (None, 150, 150, 3)       0         \n",
      "_________________________________________________________________\n",
      "block1_conv1 (Conv2D)        (None, 150, 150, 64)      1792      \n",
      "_________________________________________________________________\n",
      "block1_conv2 (Conv2D)        (None, 150, 150, 64)      36928     \n",
      "_________________________________________________________________\n",
      "block1_pool (MaxPooling2D)   (None, 75, 75, 64)        0         \n",
      "_________________________________________________________________\n",
      "block2_conv1 (Conv2D)        (None, 75, 75, 128)       73856     \n",
      "_________________________________________________________________\n",
      "block2_conv2 (Conv2D)        (None, 75, 75, 128)       147584    \n",
      "_________________________________________________________________\n",
      "block2_pool (MaxPooling2D)   (None, 37, 37, 128)       0         \n",
      "_________________________________________________________________\n",
      "block3_conv1 (Conv2D)        (None, 37, 37, 256)       295168    \n",
      "_________________________________________________________________\n",
      "block3_conv2 (Conv2D)        (None, 37, 37, 256)       590080    \n",
      "_________________________________________________________________\n",
      "block3_conv3 (Conv2D)        (None, 37, 37, 256)       590080    \n",
      "_________________________________________________________________\n",
      "block3_pool (MaxPooling2D)   (None, 18, 18, 256)       0         \n",
      "_________________________________________________________________\n",
      "block4_conv1 (Conv2D)        (None, 18, 18, 512)       1180160   \n",
      "_________________________________________________________________\n",
      "block4_conv2 (Conv2D)        (None, 18, 18, 512)       2359808   \n",
      "_________________________________________________________________\n",
      "block4_conv3 (Conv2D)        (None, 18, 18, 512)       2359808   \n",
      "_________________________________________________________________\n",
      "block4_pool (MaxPooling2D)   (None, 9, 9, 512)         0         \n",
      "_________________________________________________________________\n",
      "block5_conv1 (Conv2D)        (None, 9, 9, 512)         2359808   \n",
      "_________________________________________________________________\n",
      "block5_conv2 (Conv2D)        (None, 9, 9, 512)         2359808   \n",
      "_________________________________________________________________\n",
      "block5_conv3 (Conv2D)        (None, 9, 9, 512)         2359808   \n",
      "_________________________________________________________________\n",
      "block5_pool (MaxPooling2D)   (None, 4, 4, 512)         0         \n",
      "=================================================================\n",
      "Total params: 14,714,688\n",
      "Trainable params: 0\n",
      "Non-trainable params: 14,714,688\n",
      "_________________________________________________________________\n"
     ]
    }
   ],
   "source": [
    "conv_base.summary()"
   ]
  },
  {
   "cell_type": "markdown",
   "metadata": {},
   "source": [
    "\n",
    "We will fine-tune the last 3 convolutional layers, which means that all layers up until `block4_pool` should be frozen, and the layers \n",
    "`block5_conv1`, `block5_conv2` and `block5_conv3` should be trainable.\n",
    "\n",
    "Why not fine-tune more layers? Why not fine-tune the entire convolutional base? We could. However, we need to consider that:\n",
    "\n",
    "* Earlier layers in the convolutional base encode more generic, reusable features, while layers higher up encode more specialized features. It is \n",
    "more useful to fine-tune the more specialized features, as these are the ones that need to be repurposed on our new problem. There would \n",
    "be fast-decreasing returns in fine-tuning lower layers.\n",
    "* The more parameters we are training, the more we are at risk of overfitting. The convolutional base has 15M parameters, so it would be \n",
    "risky to attempt to train it on our small dataset.\n",
    "\n",
    "Thus, in our situation, it is a good strategy to only fine-tune the top 2 to 3 layers in the convolutional base.\n",
    "\n",
    "Let's set this up, starting from where we left off in the previous example:\n",
    "\n",
    "我们将微调最后三个卷积层，也就是说，直到 block4_pool 的所有层都应该被冻结，而block5_conv1、block5_conv2 和 block5_conv3 三层应该是可训练的。 为什么不微调更多层？为什么不微调整个卷积基？你当然可以这么做，但需要考虑以下几点。\n",
    "* 卷积基中更靠底部的层编码的是更加通用的可复用特征，而更靠顶部的层编码的是更专业化的特征。微调这些更专业化的特征更加有用，因为它们需要在你的新问题上改变用途。微调更靠底部的层，得到的回报会更少。\n",
    "* 训练的参数越多，过拟合的风险越大。卷积基有1500 万个参数，所以在你的小型数据集上训练这么多参数是有风险的。\n",
    "\n",
    "因此，在这种情况下，一个好策略是仅微调卷积基最后的两三层。我们从上一个例子结束的地方开始，继续实现此方法。\n"
   ]
  },
  {
   "cell_type": "code",
   "execution_count": 25,
   "metadata": {},
   "outputs": [],
   "source": [
    "conv_base.trainable = True\n",
    "\n",
    "set_trainable = False\n",
    "for layer in conv_base.layers:\n",
    "    if layer.name == 'block5_conv1':\n",
    "        set_trainable = True\n",
    "    if set_trainable:\n",
    "        layer.trainable = True\n",
    "    else:\n",
    "        layer.trainable = False"
   ]
  },
  {
   "cell_type": "markdown",
   "metadata": {},
   "source": [
    "Now we can start fine-tuning our network. We will do this with the RMSprop optimizer, using a very low learning rate. The reason for using \n",
    "a low learning rate is that we want to limit the magnitude of the modifications we make to the representations of the 3 layers that we are \n",
    "fine-tuning. Updates that are too large may harm these representations.\n",
    "\n",
    "Now let's proceed with fine-tuning:\n",
    "\n",
    "现在你可以开始微调网络。我们将使用学习率非常小的 RMSProp 优化器来实现。之所以让学习率很小，是因为对于微调的三层表示，我们希望其变化范围不要太大。太大的权重更新可能会破坏这些表示。\n",
    "\n",
    "现在我们实施模型微调："
   ]
  },
  {
   "cell_type": "code",
   "execution_count": 26,
   "metadata": {},
   "outputs": [
    {
     "name": "stdout",
     "output_type": "stream",
     "text": [
      "Epoch 1/100\n",
      "100/100 [==============================] - 21s 209ms/step - loss: 0.2943 - acc: 0.8765 - val_loss: 0.2242 - val_acc: 0.9190\n",
      "Epoch 2/100\n",
      "100/100 [==============================] - 20s 195ms/step - loss: 0.2627 - acc: 0.8935 - val_loss: 0.2094 - val_acc: 0.9160\n",
      "Epoch 3/100\n",
      "100/100 [==============================] - 20s 195ms/step - loss: 0.2406 - acc: 0.8980 - val_loss: 0.1983 - val_acc: 0.9170\n",
      "Epoch 4/100\n",
      "100/100 [==============================] - 19s 188ms/step - loss: 0.2237 - acc: 0.9080 - val_loss: 0.2275 - val_acc: 0.9110\n",
      "Epoch 5/100\n",
      "100/100 [==============================] - 19s 189ms/step - loss: 0.2210 - acc: 0.9095 - val_loss: 0.2063 - val_acc: 0.9220\n",
      "Epoch 6/100\n",
      "100/100 [==============================] - 19s 192ms/step - loss: 0.1894 - acc: 0.9215 - val_loss: 0.1925 - val_acc: 0.9270\n",
      "Epoch 7/100\n",
      "100/100 [==============================] - 19s 191ms/step - loss: 0.1765 - acc: 0.9270 - val_loss: 0.2136 - val_acc: 0.9180\n",
      "Epoch 8/100\n",
      "100/100 [==============================] - 19s 191ms/step - loss: 0.1712 - acc: 0.9285 - val_loss: 0.1941 - val_acc: 0.9260\n",
      "Epoch 9/100\n",
      "100/100 [==============================] - 19s 194ms/step - loss: 0.1640 - acc: 0.9340 - val_loss: 0.2093 - val_acc: 0.9180\n",
      "Epoch 10/100\n",
      "100/100 [==============================] - 19s 189ms/step - loss: 0.1637 - acc: 0.9320 - val_loss: 0.2044 - val_acc: 0.9250\n",
      "Epoch 11/100\n",
      "100/100 [==============================] - 19s 188ms/step - loss: 0.1486 - acc: 0.9405 - val_loss: 0.2039 - val_acc: 0.9220\n",
      "Epoch 12/100\n",
      "100/100 [==============================] - 19s 191ms/step - loss: 0.1389 - acc: 0.9440 - val_loss: 0.1929 - val_acc: 0.9280\n",
      "Epoch 13/100\n",
      "100/100 [==============================] - 19s 190ms/step - loss: 0.1328 - acc: 0.9495 - val_loss: 0.2665 - val_acc: 0.9070\n",
      "Epoch 14/100\n",
      "100/100 [==============================] - 19s 188ms/step - loss: 0.1268 - acc: 0.9495 - val_loss: 0.2035 - val_acc: 0.9220\n",
      "Epoch 15/100\n",
      "100/100 [==============================] - 19s 192ms/step - loss: 0.1189 - acc: 0.9505 - val_loss: 0.1811 - val_acc: 0.9260\n",
      "Epoch 16/100\n",
      "100/100 [==============================] - 19s 189ms/step - loss: 0.1085 - acc: 0.9615 - val_loss: 0.1980 - val_acc: 0.9340\n",
      "Epoch 17/100\n",
      "100/100 [==============================] - 19s 188ms/step - loss: 0.1094 - acc: 0.9555 - val_loss: 0.1856 - val_acc: 0.9320\n",
      "Epoch 18/100\n",
      "100/100 [==============================] - 19s 191ms/step - loss: 0.1155 - acc: 0.9585 - val_loss: 0.1903 - val_acc: 0.9280\n",
      "Epoch 19/100\n",
      "100/100 [==============================] - 19s 189ms/step - loss: 0.0975 - acc: 0.9625 - val_loss: 0.2127 - val_acc: 0.9270\n",
      "Epoch 20/100\n",
      "100/100 [==============================] - 19s 189ms/step - loss: 0.1018 - acc: 0.9600 - val_loss: 0.1841 - val_acc: 0.9350\n",
      "Epoch 21/100\n",
      "100/100 [==============================] - 19s 191ms/step - loss: 0.0946 - acc: 0.9600 - val_loss: 0.2036 - val_acc: 0.9310\n",
      "Epoch 22/100\n",
      "100/100 [==============================] - 19s 188ms/step - loss: 0.0897 - acc: 0.9620 - val_loss: 0.2076 - val_acc: 0.9330\n",
      "Epoch 23/100\n",
      "100/100 [==============================] - 19s 190ms/step - loss: 0.0794 - acc: 0.9720 - val_loss: 0.2212 - val_acc: 0.9250\n",
      "Epoch 24/100\n",
      "100/100 [==============================] - 19s 192ms/step - loss: 0.0844 - acc: 0.9685 - val_loss: 0.1929 - val_acc: 0.9330\n",
      "Epoch 25/100\n",
      "100/100 [==============================] - 19s 187ms/step - loss: 0.0847 - acc: 0.9700 - val_loss: 0.1902 - val_acc: 0.9320\n",
      "Epoch 26/100\n",
      "100/100 [==============================] - 19s 191ms/step - loss: 0.0791 - acc: 0.9720 - val_loss: 0.2367 - val_acc: 0.9300\n",
      "Epoch 27/100\n",
      "100/100 [==============================] - 20s 195ms/step - loss: 0.0761 - acc: 0.9750 - val_loss: 0.2361 - val_acc: 0.9240\n",
      "Epoch 28/100\n",
      "100/100 [==============================] - 19s 189ms/step - loss: 0.0706 - acc: 0.9720 - val_loss: 0.1853 - val_acc: 0.9370\n",
      "Epoch 29/100\n",
      "100/100 [==============================] - 19s 191ms/step - loss: 0.0812 - acc: 0.9670 - val_loss: 0.1911 - val_acc: 0.9340\n",
      "Epoch 30/100\n",
      "100/100 [==============================] - 19s 193ms/step - loss: 0.0662 - acc: 0.9720 - val_loss: 0.1790 - val_acc: 0.9400\n",
      "Epoch 31/100\n",
      "100/100 [==============================] - 19s 190ms/step - loss: 0.0607 - acc: 0.9765 - val_loss: 0.2062 - val_acc: 0.9390\n",
      "Epoch 32/100\n",
      "100/100 [==============================] - 19s 190ms/step - loss: 0.0549 - acc: 0.9750 - val_loss: 0.2149 - val_acc: 0.9310\n",
      "Epoch 33/100\n",
      "100/100 [==============================] - 19s 193ms/step - loss: 0.0623 - acc: 0.9750 - val_loss: 0.2013 - val_acc: 0.9380\n",
      "Epoch 34/100\n",
      "100/100 [==============================] - 19s 188ms/step - loss: 0.0598 - acc: 0.9775 - val_loss: 0.1801 - val_acc: 0.9390\n",
      "Epoch 35/100\n",
      "100/100 [==============================] - 19s 190ms/step - loss: 0.0636 - acc: 0.9755 - val_loss: 0.2860 - val_acc: 0.9240\n",
      "Epoch 36/100\n",
      "100/100 [==============================] - 19s 192ms/step - loss: 0.0654 - acc: 0.9795 - val_loss: 0.2049 - val_acc: 0.9420\n",
      "Epoch 37/100\n",
      "100/100 [==============================] - 19s 187ms/step - loss: 0.0553 - acc: 0.9785 - val_loss: 0.1897 - val_acc: 0.9410\n",
      "Epoch 38/100\n",
      "100/100 [==============================] - 19s 190ms/step - loss: 0.0596 - acc: 0.9795 - val_loss: 0.2170 - val_acc: 0.9350\n",
      "Epoch 39/100\n",
      "100/100 [==============================] - 19s 193ms/step - loss: 0.0579 - acc: 0.9800 - val_loss: 0.1895 - val_acc: 0.9380\n",
      "Epoch 40/100\n",
      "100/100 [==============================] - 19s 187ms/step - loss: 0.0480 - acc: 0.9815 - val_loss: 0.1941 - val_acc: 0.9410\n",
      "Epoch 41/100\n",
      "100/100 [==============================] - 19s 189ms/step - loss: 0.0731 - acc: 0.9735 - val_loss: 0.2298 - val_acc: 0.9320\n",
      "Epoch 42/100\n",
      "100/100 [==============================] - 19s 193ms/step - loss: 0.0484 - acc: 0.9800 - val_loss: 0.3248 - val_acc: 0.9200\n",
      "Epoch 43/100\n",
      "100/100 [==============================] - 19s 186ms/step - loss: 0.0595 - acc: 0.9770 - val_loss: 0.1985 - val_acc: 0.9380\n",
      "Epoch 44/100\n",
      "100/100 [==============================] - 19s 190ms/step - loss: 0.0428 - acc: 0.9840 - val_loss: 0.2247 - val_acc: 0.9350\n",
      "Epoch 45/100\n",
      "100/100 [==============================] - 19s 195ms/step - loss: 0.0466 - acc: 0.9835 - val_loss: 0.2010 - val_acc: 0.9380\n",
      "Epoch 46/100\n",
      "100/100 [==============================] - 19s 188ms/step - loss: 0.0333 - acc: 0.9875 - val_loss: 0.2388 - val_acc: 0.9310\n",
      "Epoch 47/100\n",
      "100/100 [==============================] - 19s 189ms/step - loss: 0.0426 - acc: 0.9850 - val_loss: 0.2175 - val_acc: 0.9310\n",
      "Epoch 48/100\n",
      "100/100 [==============================] - 19s 193ms/step - loss: 0.0391 - acc: 0.9840 - val_loss: 0.2217 - val_acc: 0.9340\n",
      "Epoch 49/100\n",
      "100/100 [==============================] - 19s 188ms/step - loss: 0.0428 - acc: 0.9840 - val_loss: 0.2583 - val_acc: 0.9340\n",
      "Epoch 50/100\n",
      "100/100 [==============================] - 19s 190ms/step - loss: 0.0404 - acc: 0.9880 - val_loss: 0.2398 - val_acc: 0.9370\n",
      "Epoch 51/100\n",
      "100/100 [==============================] - 19s 193ms/step - loss: 0.0372 - acc: 0.9815 - val_loss: 0.2120 - val_acc: 0.9350\n",
      "Epoch 52/100\n",
      "100/100 [==============================] - 19s 189ms/step - loss: 0.0303 - acc: 0.9880 - val_loss: 0.2652 - val_acc: 0.9310\n",
      "Epoch 53/100\n",
      "100/100 [==============================] - 19s 189ms/step - loss: 0.0400 - acc: 0.9860 - val_loss: 0.2335 - val_acc: 0.9370\n",
      "Epoch 54/100\n",
      "100/100 [==============================] - 19s 192ms/step - loss: 0.0337 - acc: 0.9905 - val_loss: 0.2661 - val_acc: 0.9320\n",
      "Epoch 55/100\n",
      "100/100 [==============================] - 19s 188ms/step - loss: 0.0252 - acc: 0.9930 - val_loss: 0.2736 - val_acc: 0.9320\n",
      "Epoch 56/100\n",
      "100/100 [==============================] - 19s 188ms/step - loss: 0.0458 - acc: 0.9845 - val_loss: 0.2350 - val_acc: 0.9370\n",
      "Epoch 57/100\n",
      "100/100 [==============================] - 19s 192ms/step - loss: 0.0269 - acc: 0.9925 - val_loss: 0.2272 - val_acc: 0.9340\n",
      "Epoch 58/100\n",
      "100/100 [==============================] - 19s 188ms/step - loss: 0.0294 - acc: 0.9885 - val_loss: 0.2337 - val_acc: 0.9360\n",
      "Epoch 59/100\n",
      "100/100 [==============================] - 19s 190ms/step - loss: 0.0341 - acc: 0.9880 - val_loss: 0.3542 - val_acc: 0.9200\n",
      "Epoch 60/100\n",
      "100/100 [==============================] - 19s 191ms/step - loss: 0.0365 - acc: 0.9880 - val_loss: 0.2449 - val_acc: 0.9360\n"
     ]
    },
    {
     "name": "stdout",
     "output_type": "stream",
     "text": [
      "Epoch 61/100\n",
      "100/100 [==============================] - 19s 190ms/step - loss: 0.0393 - acc: 0.9855 - val_loss: 0.2265 - val_acc: 0.9330\n",
      "Epoch 62/100\n",
      "100/100 [==============================] - 19s 188ms/step - loss: 0.0357 - acc: 0.9880 - val_loss: 0.2294 - val_acc: 0.9360\n",
      "Epoch 63/100\n",
      "100/100 [==============================] - 19s 194ms/step - loss: 0.0260 - acc: 0.9900 - val_loss: 0.2415 - val_acc: 0.9420\n",
      "Epoch 64/100\n",
      "100/100 [==============================] - 19s 189ms/step - loss: 0.0346 - acc: 0.9860 - val_loss: 0.2409 - val_acc: 0.9390\n",
      "Epoch 65/100\n",
      "100/100 [==============================] - 19s 189ms/step - loss: 0.0328 - acc: 0.9905 - val_loss: 0.2434 - val_acc: 0.9330\n",
      "Epoch 66/100\n",
      "100/100 [==============================] - 19s 192ms/step - loss: 0.0298 - acc: 0.9915 - val_loss: 0.2473 - val_acc: 0.9380\n",
      "Epoch 67/100\n",
      "100/100 [==============================] - 19s 193ms/step - loss: 0.0252 - acc: 0.9900 - val_loss: 0.3287 - val_acc: 0.9310\n",
      "Epoch 68/100\n",
      "100/100 [==============================] - 19s 189ms/step - loss: 0.0344 - acc: 0.9900 - val_loss: 0.2219 - val_acc: 0.9410\n",
      "Epoch 69/100\n",
      "100/100 [==============================] - 19s 193ms/step - loss: 0.0340 - acc: 0.9890 - val_loss: 0.2547 - val_acc: 0.9380\n",
      "Epoch 70/100\n",
      "100/100 [==============================] - 19s 190ms/step - loss: 0.0315 - acc: 0.9890 - val_loss: 0.2595 - val_acc: 0.9260\n",
      "Epoch 71/100\n",
      "100/100 [==============================] - 19s 190ms/step - loss: 0.0303 - acc: 0.9885 - val_loss: 0.2582 - val_acc: 0.9310\n",
      "Epoch 72/100\n",
      "100/100 [==============================] - 19s 191ms/step - loss: 0.0298 - acc: 0.9900 - val_loss: 0.2389 - val_acc: 0.9410\n",
      "Epoch 73/100\n",
      "100/100 [==============================] - 19s 190ms/step - loss: 0.0236 - acc: 0.9940 - val_loss: 0.2326 - val_acc: 0.9380\n",
      "Epoch 74/100\n",
      "100/100 [==============================] - 19s 189ms/step - loss: 0.0226 - acc: 0.9895 - val_loss: 0.3235 - val_acc: 0.9240\n",
      "Epoch 75/100\n",
      "100/100 [==============================] - 19s 191ms/step - loss: 0.0316 - acc: 0.9895 - val_loss: 0.2400 - val_acc: 0.9410\n",
      "Epoch 76/100\n",
      "100/100 [==============================] - 19s 190ms/step - loss: 0.0135 - acc: 0.9955 - val_loss: 0.2300 - val_acc: 0.9390\n",
      "Epoch 77/100\n",
      "100/100 [==============================] - 19s 189ms/step - loss: 0.0306 - acc: 0.9875 - val_loss: 0.2930 - val_acc: 0.9320\n",
      "Epoch 78/100\n",
      "100/100 [==============================] - 19s 194ms/step - loss: 0.0302 - acc: 0.9885 - val_loss: 0.2450 - val_acc: 0.9460\n",
      "Epoch 79/100\n",
      "100/100 [==============================] - 19s 189ms/step - loss: 0.0222 - acc: 0.9930 - val_loss: 0.2516 - val_acc: 0.9430\n",
      "Epoch 80/100\n",
      "100/100 [==============================] - 19s 188ms/step - loss: 0.0174 - acc: 0.9945 - val_loss: 0.2775 - val_acc: 0.9410\n",
      "Epoch 81/100\n",
      "100/100 [==============================] - 19s 190ms/step - loss: 0.0229 - acc: 0.9940 - val_loss: 0.2394 - val_acc: 0.9380\n",
      "Epoch 82/100\n",
      "100/100 [==============================] - 19s 187ms/step - loss: 0.0186 - acc: 0.9930 - val_loss: 0.2544 - val_acc: 0.9410\n",
      "Epoch 83/100\n",
      "100/100 [==============================] - 19s 189ms/step - loss: 0.0206 - acc: 0.9935 - val_loss: 0.2516 - val_acc: 0.9430\n",
      "Epoch 84/100\n",
      "100/100 [==============================] - 19s 191ms/step - loss: 0.0217 - acc: 0.9925 - val_loss: 0.2712 - val_acc: 0.9400\n",
      "Epoch 85/100\n",
      "100/100 [==============================] - 19s 187ms/step - loss: 0.0198 - acc: 0.9925 - val_loss: 0.2622 - val_acc: 0.9360\n",
      "Epoch 86/100\n",
      "100/100 [==============================] - 19s 189ms/step - loss: 0.0325 - acc: 0.9910 - val_loss: 0.3109 - val_acc: 0.9300\n",
      "Epoch 87/100\n",
      "100/100 [==============================] - 19s 194ms/step - loss: 0.0201 - acc: 0.9930 - val_loss: 0.2351 - val_acc: 0.9400\n",
      "Epoch 88/100\n",
      "100/100 [==============================] - 19s 189ms/step - loss: 0.0195 - acc: 0.9925 - val_loss: 0.3105 - val_acc: 0.9250\n",
      "Epoch 89/100\n",
      "100/100 [==============================] - 19s 188ms/step - loss: 0.0187 - acc: 0.9945 - val_loss: 0.2882 - val_acc: 0.9370\n",
      "Epoch 90/100\n",
      "100/100 [==============================] - 19s 191ms/step - loss: 0.0193 - acc: 0.9935 - val_loss: 0.2484 - val_acc: 0.9400\n",
      "Epoch 91/100\n",
      "100/100 [==============================] - 19s 188ms/step - loss: 0.0143 - acc: 0.9935 - val_loss: 0.2795 - val_acc: 0.9380\n",
      "Epoch 92/100\n",
      "100/100 [==============================] - 19s 187ms/step - loss: 0.0253 - acc: 0.9925 - val_loss: 0.3436 - val_acc: 0.9280\n",
      "Epoch 93/100\n",
      "100/100 [==============================] - 19s 191ms/step - loss: 0.0175 - acc: 0.9935 - val_loss: 0.3291 - val_acc: 0.9300\n",
      "Epoch 94/100\n",
      "100/100 [==============================] - 19s 188ms/step - loss: 0.0314 - acc: 0.9915 - val_loss: 0.3592 - val_acc: 0.9200\n",
      "Epoch 95/100\n",
      "100/100 [==============================] - 19s 191ms/step - loss: 0.0163 - acc: 0.9925 - val_loss: 0.2353 - val_acc: 0.9360\n",
      "Epoch 96/100\n",
      "100/100 [==============================] - 19s 194ms/step - loss: 0.0153 - acc: 0.9955 - val_loss: 0.4070 - val_acc: 0.9220\n",
      "Epoch 97/100\n",
      "100/100 [==============================] - 19s 188ms/step - loss: 0.0177 - acc: 0.9925 - val_loss: 0.2777 - val_acc: 0.9390\n",
      "Epoch 98/100\n",
      "100/100 [==============================] - 19s 188ms/step - loss: 0.0233 - acc: 0.9930 - val_loss: 0.2460 - val_acc: 0.9460\n",
      "Epoch 99/100\n",
      "100/100 [==============================] - 20s 196ms/step - loss: 0.0155 - acc: 0.9930 - val_loss: 0.2950 - val_acc: 0.9350\n",
      "Epoch 100/100\n",
      "100/100 [==============================] - 19s 188ms/step - loss: 0.0160 - acc: 0.9945 - val_loss: 0.2475 - val_acc: 0.9410\n"
     ]
    }
   ],
   "source": [
    "model.compile(loss='binary_crossentropy',\n",
    "              optimizer=optimizers.RMSprop(lr=1e-5),\n",
    "              metrics=['acc'])\n",
    "\n",
    "history = model.fit_generator(\n",
    "      train_generator,\n",
    "      steps_per_epoch=100,\n",
    "      epochs=100,\n",
    "      validation_data=validation_generator,\n",
    "      validation_steps=50)"
   ]
  },
  {
   "cell_type": "code",
   "execution_count": 27,
   "metadata": {},
   "outputs": [],
   "source": [
    "model.save('models/cats_and_dogs_small_4.h5')"
   ]
  },
  {
   "cell_type": "markdown",
   "metadata": {},
   "source": [
    "Let's plot our results using the same plotting code as before:\n",
    "\n",
    "我们用和前面一样的绘图代码来绘制结果："
   ]
  },
  {
   "cell_type": "code",
   "execution_count": 28,
   "metadata": {},
   "outputs": [
    {
     "data": {
      "image/png": "[encoded data removed]",
      "text/plain": [
       "<Figure size 432x288 with 1 Axes>"
      ]
     },
     "metadata": {},
     "output_type": "display_data"
    },
    {
     "data": {
      "image/png": "[encoded data removed]",
      "text/plain": [
       "<Figure size 432x288 with 1 Axes>"
      ]
     },
     "metadata": {},
     "output_type": "display_data"
    }
   ],
   "source": [
    "acc = history.history['acc']\n",
    "val_acc = history.history['val_acc']\n",
    "loss = history.history['loss']\n",
    "val_loss = history.history['val_loss']\n",
    "\n",
    "epochs = range(len(acc))\n",
    "\n",
    "plt.plot(epochs, acc, 'bo', label='Training acc')\n",
    "plt.plot(epochs, val_acc, 'b', label='Validation acc')\n",
    "plt.title('Training and validation accuracy')\n",
    "plt.legend()\n",
    "\n",
    "plt.figure()\n",
    "\n",
    "plt.plot(epochs, loss, 'bo', label='Training loss')\n",
    "plt.plot(epochs, val_loss, 'b', label='Validation loss')\n",
    "plt.title('Training and validation loss')\n",
    "plt.legend()\n",
    "\n",
    "plt.show()"
   ]
  },
  {
   "cell_type": "markdown",
   "metadata": {},
   "source": [
    "\n",
    "These curves look very noisy. To make them more readable, we can smooth them by replacing every loss and accuracy with exponential moving \n",
    "averages of these quantities. Here's a trivial utility function to do this:\n",
    "\n",
    "这些曲线看起来包含噪声。为了让图像更具可读性，你可以将每个损失和精度都替换为指数移动平均值，从而让曲线变得平滑。下面用一个简单的实用函数来实现"
   ]
  },
  {
   "cell_type": "code",
   "execution_count": 29,
   "metadata": {},
   "outputs": [
    {
     "data": {
      "image/png": "[encoded data removed]",
      "text/plain": [
       "<Figure size 432x288 with 1 Axes>"
      ]
     },
     "metadata": {},
     "output_type": "display_data"
    },
    {
     "data": {
      "image/png": "[encoded data removed]",
      "text/plain": [
       "<Figure size 432x288 with 1 Axes>"
      ]
     },
     "metadata": {},
     "output_type": "display_data"
    }
   ],
   "source": [
    "def smooth_curve(points, factor=0.8):\n",
    "  smoothed_points = []\n",
    "  for point in points:\n",
    "    if smoothed_points:\n",
    "      previous = smoothed_points[-1]\n",
    "      smoothed_points.append(previous * factor + point * (1 - factor))\n",
    "    else:\n",
    "      smoothed_points.append(point)\n",
    "  return smoothed_points\n",
    "\n",
    "plt.plot(epochs,\n",
    "         smooth_curve(acc), 'bo', label='Smoothed training acc')\n",
    "plt.plot(epochs,\n",
    "         smooth_curve(val_acc), 'b', label='Smoothed validation acc')\n",
    "plt.title('Training and validation accuracy')\n",
    "plt.legend()\n",
    "\n",
    "plt.figure()\n",
    "\n",
    "plt.plot(epochs,\n",
    "         smooth_curve(loss), 'bo', label='Smoothed training loss')\n",
    "plt.plot(epochs,\n",
    "         smooth_curve(val_loss), 'b', label='Smoothed validation loss')\n",
    "plt.title('Training and validation loss')\n",
    "plt.legend()\n",
    "\n",
    "plt.show()"
   ]
  },
  {
   "cell_type": "markdown",
   "metadata": {},
   "source": [
    "\n",
    "These curves look much cleaner and more stable. We are seeing a nice 1% absolute improvement.\n",
    "\n",
    "Note that the loss curve does not show any real improvement (in fact, it is deteriorating). You may wonder, how could accuracy improve if the \n",
    "loss isn't decreasing? The answer is simple: what we display is an average of pointwise loss values, but what actually matters for accuracy \n",
    "is the distribution of the loss values, not their average, since accuracy is the result of a binary thresholding of the class probability \n",
    "predicted by the model. The model may still be improving even if this isn't reflected in the average loss.\n",
    "\n",
    "We can now finally evaluate this model on the test data:\n",
    "\n",
    "验证精度曲线变得更清楚。可以看到，精度值提高了 1%，从约 96% 提高到 97% 以上。 \n",
    "\n",
    "注意，从损失曲线上看不出与之前相比有任何真正的提高（实际上还在变差）。你可能感到奇怪，如果损失没有降低，那么精度怎么能保持稳定或提高呢？答案很简单：图中展示的是逐点（pointwise）损失值的平均值，但影响精度的是损失值的分布，而不是平均值，因为精度是模型预测的类别概率的二进制阈值。即使从平均损失中无法看出，但模型也仍然可能在改进。\n",
    "\n",
    "现在，你可以在测试数据上最终评估这个模型。\n"
   ]
  },
  {
   "cell_type": "code",
   "execution_count": 30,
   "metadata": {},
   "outputs": [
    {
     "name": "stdout",
     "output_type": "stream",
     "text": [
      "Found 1000 images belonging to 2 classes.\n",
      "test acc: 0.938999991417\n"
     ]
    }
   ],
   "source": [
    "test_generator = test_datagen.flow_from_directory(\n",
    "        test_dir,\n",
    "        target_size=(150, 150),\n",
    "        batch_size=20,\n",
    "        class_mode='binary')\n",
    "\n",
    "test_loss, test_acc = model.evaluate_generator(test_generator, steps=50)\n",
    "print('test acc:', test_acc)"
   ]
  },
  {
   "cell_type": "markdown",
   "metadata": {},
   "source": [
    "\n",
    "Here we get a test accuracy of 97%. In the original Kaggle competition around this dataset, this would have been one of the top results. \n",
    "However, using modern deep learning techniques, we managed to reach this result using only a very small fraction of the training data \n",
    "available (about 10%). There is a huge difference between being able to train on 20,000 samples compared to 2,000 samples!\n",
    "\n",
    "我们得到了 97% 的测试精度。在关于这个数据集的原始 Kaggle 竞赛中，这个结果是最佳结果之一。但利用现代深度学习技术，你只用一小部分训练数据（约 10%）就得到了这个结果。 训练 20 000 个样本与训练 2000 个样本是有很大差别的！"
   ]
  },
  {
   "cell_type": "markdown",
   "metadata": {},
   "source": [
    "## Take-aways: using convnets with small datasets\n",
    "\n",
    "Here's what you should take away from the exercises of these past two sections:\n",
    "\n",
    "* Convnets are the best type of machine learning models for computer vision tasks. It is possible to train one from scratch even on a very \n",
    "small dataset, with decent results.\n",
    "* On a small dataset, overfitting will be the main issue. Data augmentation is a powerful way to fight overfitting when working with image \n",
    "data.\n",
    "* It is easy to reuse an existing convnet on a new dataset, via feature extraction. This is a very valuable technique for working with \n",
    "small image datasets.\n",
    "* As a complement to feature extraction, one may use fine-tuning, which adapts to a new problem some of the representations previously \n",
    "learned by an existing model. This pushes performance a bit further.\n",
    "\n",
    "Now you have a solid set of tools for dealing with image classification problems, in particular with small datasets.\n",
    "\n",
    "## 小结\n",
    "下面是你应该从以上两节的练习中学到的要点。\n",
    "* 卷积神经网络是用于计算机视觉任务的最佳机器学习模型。即使在非常小的数据集上也可以从头开始训练一个卷积神经网络，而且得到的结果还不错。\n",
    "* 在小型数据集上的主要问题是过拟合。在处理图像数据时，数据增强是一种降低过拟合的强大方法。\n",
    "* 利用特征提取，可以很容易将现有的卷积神经网络复用于新的数据集。对于小型图像数据集，这是一种很有价值的方法。\n",
    "* 作为特征提取的补充，你还可以使用微调，将现有模型之前学到的一些数据表示应用于新问题。这种方法可以进一步提高模型性能。\n",
    "\n",
    "现在你已经拥有一套可靠的工具来处理图像分类问题，特别是对于小型数据集。\n"
   ]
  }
 ],
 "metadata": {
  "kernelspec": {
   "display_name": "Python [default]",
   "language": "python",
   "name": "python3"
  },
  "language_info": {
   "codemirror_mode": {
    "name": "ipython",
    "version": 3
   },
   "file_extension": ".py",
   "mimetype": "text/x-python",
   "name": "python",
   "nbconvert_exporter": "python",
   "pygments_lexer": "ipython3",
   "version": "3.6.5"
  },
  "latex_envs": {
   "LaTeX_envs_menu_present": true,
   "autoclose": false,
   "autocomplete": true,
   "bibliofile": "biblio.bib",
   "cite_by": "apalike",
   "current_citInitial": 1,
   "eqLabelWithNumbers": true,
   "eqNumInitial": 1,
   "hotkeys": {
    "equation": "Ctrl-E",
    "itemize": "Ctrl-I"
   },
   "labels_anchors": false,
   "latex_user_defs": false,
   "report_style_numbering": false,
   "user_envs_cfg": false
  },
  "nbTranslate": {
   "displayLangs": [
    "*"
   ],
   "hotkey": "alt-t",
   "langInMainMenu": true,
   "sourceLang": "en",
   "targetLang": "fr",
   "useGoogleTranslate": true
  },
  "toc": {
   "base_numbering": 1,
   "nav_menu": {},
   "number_sections": true,
   "sideBar": true,
   "skip_h1_title": false,
   "title_cell": "Table of Contents",
   "title_sidebar": "Contents",
   "toc_cell": false,
   "toc_position": {},
   "toc_section_display": true,
   "toc_window_display": false
  },
  "varInspector": {
   "cols": {
    "lenName": 16,
    "lenType": 16,
    "lenVar": 40
   },
   "kernels_config": {
    "python": {
     "delete_cmd_postfix": "",
     "delete_cmd_prefix": "del ",
     "library": "var_list.py",
     "varRefreshCmd": "print(var_dic_list())"
    },
    "r": {
     "delete_cmd_postfix": ") ",
     "delete_cmd_prefix": "rm(",
     "library": "var_list.r",
     "varRefreshCmd": "cat(var_dic_list()) "
    }
   },
   "types_to_exclude": [
    "module",
    "function",
    "builtin_function_or_method",
    "instance",
    "_Feature"
   ],
   "window_display": false
  }
 },
 "nbformat": 4,
 "nbformat_minor": 2
}
