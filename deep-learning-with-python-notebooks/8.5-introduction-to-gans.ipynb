{
 "cells": [
  {
   "cell_type": "markdown",
   "metadata": {},
   "source": [
    "原文代码作者：François Chollet\n",
    "\n",
    "github：https://github.com/fchollet/deep-learning-with-python-notebooks\n",
    "\n",
    "中文注释制作：黄海广\n",
    "\n",
    "github：https://github.com/fengdu78\n",
    "\n",
    "代码全部测试通过。\n",
    "\n",
    "配置环境：keras 2.2.1（原文是2.0.8，运行结果一致），tensorflow 1.8，python 3.6，\n",
    "\n",
    "主机：显卡：一块1080ti；内存：32g（注：绝大部分代码不需要GPU）\n",
    "![公众号](data/gongzhong.jpg)"
   ]
  },
  {
   "cell_type": "code",
   "execution_count": 1,
   "metadata": {},
   "outputs": [
    {
     "name": "stderr",
     "output_type": "stream",
     "text": [
      "Using TensorFlow backend.\n"
     ]
    },
    {
     "data": {
      "text/plain": [
       "'2.2.1'"
      ]
     },
     "execution_count": 1,
     "metadata": {},
     "output_type": "execute_result"
    }
   ],
   "source": [
    "import keras\n",
    "keras.__version__"
   ]
  },
  {
   "cell_type": "markdown",
   "metadata": {},
   "source": [
    "# Introduction to generative adversarial networks\n",
    "# 生成式对抗网络简介\n",
    "This notebook contains the second code sample found in Chapter 8, Section 5 of [Deep Learning with Python](https://www.manning.com/books/deep-learning-with-python?a_aid=keras&a_bid=76564dff). Note that the original text features far more content, in particular further explanations and figures: in this notebook, you will only find source code and related comments.\n",
    "\n",
    "---\n",
    "[...]"
   ]
  },
  {
   "cell_type": "markdown",
   "metadata": {},
   "source": [
    "## A schematic GAN implementation\n",
    "\n",
    "\n",
    "In what follows, we explain how to implement a GAN in Keras, in its barest form -- since GANs are quite advanced, diving deeply into the \n",
    "technical details would be out of scope for us. Our specific implementation will be a deep convolutional GAN, or DCGAN: a GAN where the \n",
    "generator and discriminator are deep convnets. In particular, it leverages a `Conv2DTranspose` layer for image upsampling in the generator.\n",
    "\n",
    "We will train our GAN on images from CIFAR10, a dataset of 50,000 32x32 RGB images belong to 10 classes (5,000 images per class). To make \n",
    "things even easier, we will only use images belonging to the class \"frog\".\n",
    "\n",
    "Schematically, our GAN looks like this:\n",
    "\n",
    "* A `generator` network maps vectors of shape `(latent_dim,)` to images of shape `(32, 32, 3)`.\n",
    "* A `discriminator` network maps images of shape (32, 32, 3) to a binary score estimating the probability that the image is real.\n",
    "* A `gan` network chains the generator and the discriminator together: `gan(x) = discriminator(generator(x))`. Thus this `gan` network maps \n",
    "latent space vectors to the discriminator's assessment of the realism of these latent vectors as decoded by the generator.\n",
    "* We train the discriminator using examples of real and fake images along with \"real\"/\"fake\" labels, as we would train any regular image \n",
    "classification model.\n",
    "* To train the generator, we use the gradients of the generator's weights with regard to the loss of the `gan` model. This means that, at \n",
    "every step, we move the weights of the generator in a direction that will make the discriminator more likely to classify as \"real\" the \n",
    "images decoded by the generator. I.e. we train the generator to fool the discriminator.\n",
    "\n",
    "## GAN 的简要实现流程\n",
    "\n",
    "本节将会介绍如何用 Keras 来实现形式最简单的 GAN。GAN 属于高级应用，所以本书不会深入介绍其技术细节。我们具体实现的是一个深度卷积生成式对抗网络（DCGAN，deep convolutional GAN），即生成器和判别器都是深度卷积神经网络的 GAN。特别地，它在生成器中使用 Conv2DTranspose 层进行图像上采样。\n",
    "我们将在 CIFAR10 数据集的图像上训练 GAN，这个数据集包含 50 000 张 32×32 的 RGB图像，这些图像属于 10 个类别（每个类别 5000 张图像）。为了简化，我们只使用属于“frog”（青蛙）类别的图像。\n",
    "\n",
    "GAN 的简要实现流程如下所示。\n",
    "\n",
    "* (1) generator 网络将形状为 (latent_dim,) 的向量映射到形状为 (32, 32, 3) 的图像。\n",
    "* (2) discriminator 网络将形状为 (32, 32, 3) 的图像映射到一个二进制分数，用于评估图像为真的概率。\n",
    "* (3) gan 网络将 generator 网络和 discriminator 网络连接在一起：gan(x) = discriminator (generator(x))。生成器将潜在空间向量解码为图像，判别器对这些图像的真实性进 行评估，因此这个 gan 网络是将这些潜在向量映射到判别器的评估结果。\n",
    "* (4) 我们使用带有“真”/“假”标签的真假图像样本来训练判别器，就和训练普通的图像 分类模型一样。\n",
    "* (5) 为了训练生成器，我们要使用 gan 模型的损失相对于生成器权重的梯度。这意味着，在每一步都要移动生成器的权重，其移动方向是让判别器更有可能将生成器解码的图像划分为“真”。换句话说，我们训练生成器来欺骗判别器。\n"
   ]
  },
  {
   "cell_type": "markdown",
   "metadata": {},
   "source": [
    "## A bag of tricks\n",
    "\n",
    "\n",
    "Training GANs and tuning GAN implementations is notoriously difficult. There are a number of known \"tricks\" that one should keep in mind. \n",
    "Like most things in deep learning, it is more alchemy than science: these tricks are really just heuristics, not theory-backed guidelines. \n",
    "They are backed by some level of intuitive understanding of the phenomenon at hand, and they are known to work well empirically, albeit not \n",
    "necessarily in every context.\n",
    "\n",
    "Here are a few of the tricks that we leverage in our own implementation of a GAN generator and discriminator below. It is not an exhaustive \n",
    "list of GAN-related tricks; you will find many more across the GAN literature.\n",
    "\n",
    "* We use `tanh` as the last activation in the generator, instead of `sigmoid`, which would be more commonly found in other types of models.\n",
    "* We sample points from the latent space using a _normal distribution_ (Gaussian distribution), not a uniform distribution.\n",
    "* Stochasticity is good to induce robustness. Since GAN training results in a dynamic equilibrium, GANs are likely to get \"stuck\" in all sorts of ways. \n",
    "Introducing randomness during training helps prevent this. We introduce randomness in two ways: 1) we use dropout in the discriminator, 2) \n",
    "we add some random noise to the labels for the discriminator.\n",
    "* Sparse gradients can hinder GAN training. In deep learning, sparsity is often a desirable property, but not in GANs. There are two things \n",
    "that can induce gradient sparsity: 1) max pooling operations, 2) ReLU activations. Instead of max pooling, we recommend using strided \n",
    "convolutions for downsampling, and we recommend using a `LeakyReLU` layer instead of a ReLU activation. It is similar to ReLU but it \n",
    "relaxes sparsity constraints by allowing small negative activation values.\n",
    "* In generated images, it is common to see \"checkerboard artifacts\" caused by unequal coverage of the pixel space in the generator. To fix \n",
    "this, we use a kernel size that is divisible by the stride size, whenever we use a strided `Conv2DTranpose` or `Conv2D` in both the \n",
    "generator and discriminator.\n",
    "\n",
    "## 大量技巧\n",
    "\n",
    "训练 GAN 和调节 GAN 实现的过程非常困难。你应该记住一些公认的技巧。与深度学习中的大部分内容一样，这些技巧更像是炼金术而不是科学，它们是启发式的指南，并没有理论 的支持。这些技巧得到了一定程度的来自对现象的直观理解的支持，经验告诉我们，它们的效果都很好，但不一定适用于所有情况。\n",
    "\n",
    "下面是本节实现 GAN 生成器和判别器时用到的一些技巧。这里并没有列出与 GAN 相关的 全部技巧，更多技巧可查阅关于 GAN 的文献。\n",
    "\n",
    "* 我们使用 tanh 作为生成器最后一层的激活，而不用 sigmoid，后者在其他类型的模型中更加常见。\n",
    "* 我们使用正态分布（高斯分布）对潜在空间中的点进行采样，而不用均匀分布。\n",
    "* 随机性能够提高稳健性。训练 GAN 得到的是一个动态平衡，所以 GAN 可能以各种方式“卡住”。在训练过程中引入随机性有助于防止出现这种情况。我们通过两种方式引入随机性： 一种是在判别器中使用 dropout，另一种是向判别器的标签添加随机噪声。\n",
    "* 稀疏的梯度会妨碍 GAN 的训练。在深度学习中，稀疏性通常是我们需要的属性，但在GAN 中并非如此。有两件事情可能导致梯度稀疏：最大池化运算和 ReLU 激活。我们推荐使用步进卷积代替最大池化来进行下采样，还推荐使用 LeakyReLU 层来代替 ReLU 激活。LeakyReLU 和 ReLU 类似，但它允许较小的负数激活值，从而放宽了稀疏性限制。\n",
    "* 在生成的图像中，经常会见到棋盘状伪影，这是由生成器中像素空间的不均匀覆盖导致的。为了解决这个问题，每当在生成器和判别器中都使用步进的 Conv2DTranpose 或 Conv2D 时，使用的内核大小要能够被步幅大小整除。\n"
   ]
  },
  {
   "cell_type": "markdown",
   "metadata": {},
   "source": [
    "## The generator\n",
    "\n",
    "\n",
    "First, we develop a `generator` model, which turns a vector (from the latent space -- during training it will sampled at random) into a \n",
    "candidate image. One of the many issues that commonly arise with GANs is that the generator gets stuck with generated images that look like \n",
    "noise. A possible solution is to use dropout on both the discriminator and generator.\n",
    "\n",
    "## 生成器\n",
    "首先，我们来开发 generator 模型，它将一个向量（来自潜在空间，训练过程中对其随机采样）转换为一张候选图像。GAN 常见的诸多问题之一，就是生成器“卡在”看似噪声的生成图像上。一种可行的解决方案是在判别器和生成器中都使用 dropout。\n"
   ]
  },
  {
   "cell_type": "code",
   "execution_count": 2,
   "metadata": {},
   "outputs": [
    {
     "name": "stdout",
     "output_type": "stream",
     "text": [
      "_________________________________________________________________\n",
      "Layer (type)                 Output Shape              Param #   \n",
      "=================================================================\n",
      "input_1 (InputLayer)         (None, 32)                0         \n",
      "_________________________________________________________________\n",
      "dense_1 (Dense)              (None, 32768)             1081344   \n",
      "_________________________________________________________________\n",
      "leaky_re_lu_1 (LeakyReLU)    (None, 32768)             0         \n",
      "_________________________________________________________________\n",
      "reshape_1 (Reshape)          (None, 16, 16, 128)       0         \n",
      "_________________________________________________________________\n",
      "conv2d_1 (Conv2D)            (None, 16, 16, 256)       819456    \n",
      "_________________________________________________________________\n",
      "leaky_re_lu_2 (LeakyReLU)    (None, 16, 16, 256)       0         \n",
      "_________________________________________________________________\n",
      "conv2d_transpose_1 (Conv2DTr (None, 32, 32, 256)       1048832   \n",
      "_________________________________________________________________\n",
      "leaky_re_lu_3 (LeakyReLU)    (None, 32, 32, 256)       0         \n",
      "_________________________________________________________________\n",
      "conv2d_2 (Conv2D)            (None, 32, 32, 256)       1638656   \n",
      "_________________________________________________________________\n",
      "leaky_re_lu_4 (LeakyReLU)    (None, 32, 32, 256)       0         \n",
      "_________________________________________________________________\n",
      "conv2d_3 (Conv2D)            (None, 32, 32, 256)       1638656   \n",
      "_________________________________________________________________\n",
      "leaky_re_lu_5 (LeakyReLU)    (None, 32, 32, 256)       0         \n",
      "_________________________________________________________________\n",
      "conv2d_4 (Conv2D)            (None, 32, 32, 3)         37635     \n",
      "=================================================================\n",
      "Total params: 6,264,579\n",
      "Trainable params: 6,264,579\n",
      "Non-trainable params: 0\n",
      "_________________________________________________________________\n"
     ]
    }
   ],
   "source": [
    "import keras\n",
    "from keras import layers\n",
    "import numpy as np\n",
    "\n",
    "latent_dim = 32\n",
    "height = 32\n",
    "width = 32\n",
    "channels = 3\n",
    "\n",
    "generator_input = keras.Input(shape=(latent_dim,))\n",
    "\n",
    "# First, transform the input into a 16x16 128-channels feature map\n",
    "# 将输入转换为大小为 16×16 的128 个通道的特征图\n",
    "\n",
    "x = layers.Dense(128 * 16 * 16)(generator_input)\n",
    "x = layers.LeakyReLU()(x)\n",
    "x = layers.Reshape((16, 16, 128))(x)\n",
    "\n",
    "# Then, add a convolution layer(添加一个卷积层)\n",
    "x = layers.Conv2D(256, 5, padding='same')(x)\n",
    "x = layers.LeakyReLU()(x)\n",
    "\n",
    "# Upsample to 32x32(上采样为 32×32)\n",
    "x = layers.Conv2DTranspose(256, 4, strides=2, padding='same')(x)\n",
    "x = layers.LeakyReLU()(x)\n",
    "\n",
    "# Few more conv layers\n",
    "x = layers.Conv2D(256, 5, padding='same')(x)\n",
    "x = layers.LeakyReLU()(x)\n",
    "x = layers.Conv2D(256, 5, padding='same')(x)\n",
    "x = layers.LeakyReLU()(x)\n",
    "\n",
    "# Produce a 32x32 1-channel feature map（生成一个大小为 32×32 的单通道特征图（即 CIFAR10 图像的形状））\n",
    "x = layers.Conv2D(channels, 7, activation='tanh', padding='same')(x)\n",
    "generator = keras.models.Model(generator_input, x)\n",
    "#将生成器模型实例化，它将形状为 (latent_dim,)的输入映射到形状为 (32, 32, 3) 的图像\n",
    "generator.summary()"
   ]
  },
  {
   "cell_type": "markdown",
   "metadata": {},
   "source": [
    "## The discriminator\n",
    "\n",
    "\n",
    "Then, we develop a `discriminator` model, that takes as input a candidate image (real or synthetic) and classifies it into one of two \n",
    "classes, either \"generated image\" or \"real image that comes from the training set\".\n",
    "\n",
    "## 判别器\n",
    "\n",
    "接下来，我们来开发 discriminator 模型，它接收一张候选图像（真实的或合成的）作为输入，并将其划分到这两个类别之一：“生成图像”或“来自训练集的真实图像”。\n"
   ]
  },
  {
   "cell_type": "code",
   "execution_count": 3,
   "metadata": {},
   "outputs": [
    {
     "name": "stdout",
     "output_type": "stream",
     "text": [
      "_________________________________________________________________\n",
      "Layer (type)                 Output Shape              Param #   \n",
      "=================================================================\n",
      "input_2 (InputLayer)         (None, 32, 32, 3)         0         \n",
      "_________________________________________________________________\n",
      "conv2d_5 (Conv2D)            (None, 30, 30, 128)       3584      \n",
      "_________________________________________________________________\n",
      "leaky_re_lu_6 (LeakyReLU)    (None, 30, 30, 128)       0         \n",
      "_________________________________________________________________\n",
      "conv2d_6 (Conv2D)            (None, 14, 14, 128)       262272    \n",
      "_________________________________________________________________\n",
      "leaky_re_lu_7 (LeakyReLU)    (None, 14, 14, 128)       0         \n",
      "_________________________________________________________________\n",
      "conv2d_7 (Conv2D)            (None, 6, 6, 128)         262272    \n",
      "_________________________________________________________________\n",
      "leaky_re_lu_8 (LeakyReLU)    (None, 6, 6, 128)         0         \n",
      "_________________________________________________________________\n",
      "conv2d_8 (Conv2D)            (None, 2, 2, 128)         262272    \n",
      "_________________________________________________________________\n",
      "leaky_re_lu_9 (LeakyReLU)    (None, 2, 2, 128)         0         \n",
      "_________________________________________________________________\n",
      "flatten_1 (Flatten)          (None, 512)               0         \n",
      "_________________________________________________________________\n",
      "dropout_1 (Dropout)          (None, 512)               0         \n",
      "_________________________________________________________________\n",
      "dense_2 (Dense)              (None, 1)                 513       \n",
      "=================================================================\n",
      "Total params: 790,913\n",
      "Trainable params: 790,913\n",
      "Non-trainable params: 0\n",
      "_________________________________________________________________\n"
     ]
    }
   ],
   "source": [
    "discriminator_input = layers.Input(shape=(height, width, channels))\n",
    "x = layers.Conv2D(128, 3)(discriminator_input)\n",
    "x = layers.LeakyReLU()(x)\n",
    "x = layers.Conv2D(128, 4, strides=2)(x)\n",
    "x = layers.LeakyReLU()(x)\n",
    "x = layers.Conv2D(128, 4, strides=2)(x)\n",
    "x = layers.LeakyReLU()(x)\n",
    "x = layers.Conv2D(128, 4, strides=2)(x)\n",
    "x = layers.LeakyReLU()(x)\n",
    "x = layers.Flatten()(x)\n",
    "\n",
    "# One dropout layer - important trick!\n",
    "# 一个 dropout 层：这是很重要的技巧\n",
    "x = layers.Dropout(0.4)(x)\n",
    "\n",
    "# Classification layer（判别层）\n",
    "x = layers.Dense(1, activation='sigmoid')(x)\n",
    "\n",
    "discriminator = keras.models.Model(discriminator_input, x)\n",
    "discriminator.summary()\n",
    "\n",
    "# To stabilize training, we use learning rate decay\n",
    "# and gradient clipping (by value) in the optimizer.\n",
    "# 将判别器模型实例化，它将形状为 (32, 32, 3)的输入转换为一个二进制分类决策（真 / 假）\n",
    "\n",
    "discriminator_optimizer = keras.optimizers.RMSprop(lr=0.0008, clipvalue=1.0, decay=1e-8)\n",
    "\n",
    "# clipvalue=1.0：在优化器中使用梯度裁剪（限制梯度值的范围）\n",
    "# decay=1e-8：为了稳定训练过程，使用学习率衰减\n",
    "discriminator.compile(optimizer=discriminator_optimizer, loss='binary_crossentropy')"
   ]
  },
  {
   "cell_type": "markdown",
   "metadata": {},
   "source": [
    "## The adversarial network\n",
    "\n",
    "Finally, we setup the GAN, which chains the generator and the discriminator. This is the model that, when trained, will move the generator \n",
    "in a direction that improves its ability to fool the discriminator. This model turns latent space points into a classification decision, \n",
    "\"fake\" or \"real\", and it is meant to be trained with labels that are always \"these are real images\". So training `gan` will updates the \n",
    "weights of `generator` in a way that makes `discriminator` more likely to predict \"real\" when looking at fake images. Very importantly, we \n",
    "set the discriminator to be frozen during training (non-trainable): its weights will not be updated when training `gan`. If the \n",
    "discriminator weights could be updated during this process, then we would be training the discriminator to always predict \"real\", which is \n",
    "not what we want!\n",
    "\n",
    "## 对抗网络\n",
    " \n",
    "最后，我们要设置 GAN，将生成器和判别器连接在一起。训练时，这个模型将让生成器向某个方向移动，从而提高它欺骗判别器的能力。这个模型将潜在空间的点转换为一个分类决策（即 “真”或“假”），它训练的标签都是“真实图像”。因此，训练 gan 将会更新 generator 的权重， 使得 discriminator 在观察假图像时更有可能预测为“真”。请注意，有一点很重要，就是在训练过程中需要将判别器设置为冻结（即不可训练），这样在训练 gan 时它的权重才不会更新。 如果在此过程中可以对判别器的权重进行更新，那么我们就是在训练判别器始终预测“真”，但这并不是我们想要的！\n"
   ]
  },
  {
   "cell_type": "code",
   "execution_count": 4,
   "metadata": {},
   "outputs": [],
   "source": [
    "# Set discriminator weights to non-trainable\n",
    "# (will only apply to the `gan` model)\n",
    "# 将判别器权重设置为不可训练（仅应用于 gan 模型）\n",
    "discriminator.trainable = False\n",
    "\n",
    "gan_input = keras.Input(shape=(latent_dim,))\n",
    "gan_output = discriminator(generator(gan_input))\n",
    "gan = keras.models.Model(gan_input, gan_output)\n",
    "\n",
    "gan_optimizer = keras.optimizers.RMSprop(lr=0.0004, clipvalue=1.0, decay=1e-8)\n",
    "gan.compile(optimizer=gan_optimizer, loss='binary_crossentropy')"
   ]
  },
  {
   "cell_type": "markdown",
   "metadata": {},
   "source": [
    "## How to train your DCGAN\n",
    "\n",
    "Now we can start training. To recapitulate, this is schematically what the training loop looks like:\n",
    "\n",
    "```\n",
    "for each epoch:\n",
    "    * Draw random points in the latent space (random noise).\n",
    "    * Generate images with `generator` using this random noise.\n",
    "    * Mix the generated images with real ones.\n",
    "    * Train `discriminator` using these mixed images, with corresponding targets, either \"real\" (for the real images) or \"fake\" (for the generated images).\n",
    "    * Draw new random points in the latent space.\n",
    "    * Train `gan` using these random vectors, with targets that all say \"these are real images\". This will update the weights of the generator (only, since discriminator is frozen inside `gan`) to move them towards getting the discriminator to predict \"these are real images\" for generated images, i.e. this trains the generator to fool the discriminator.\n",
    "```\n",
    "\n",
    "Let's implement it:\n",
    "\n",
    "## 如何训练 DCGAN\n",
    "现在开始训练。再次强调一下，训练循环的大致流程如下所示。每轮都进行以下操作。\n",
    "\n",
    "* (1) 从潜在空间中抽取随机的点（随机噪声）。\n",
    "* (2) 利用这个随机噪声用 generator 生成图像。\n",
    "* (3) 将生成图像与真实图像混合。\n",
    "* (4) 使用这些混合后的图像以及相应的标签（真实图像为“真”，生成图像为“假”）来训练discriminator。\n",
    "* (5) 在潜在空间中随机抽取新的点。\n",
    "* (6) 使用这些随机向量以及全部是“真实图像”的标签来训练 gan。这会更新生成器的权重（只更新生成器的权重，因为判别器在 gan 中被冻结），其更新方向是使得判别器能够将生成图像预测为“真实图像”。这个过程是训练生成器去欺骗判别器。\n",
    "\n",
    "我们来实现这一流程。\n"
   ]
  },
  {
   "cell_type": "code",
   "execution_count": 5,
   "metadata": {},
   "outputs": [
    {
     "name": "stderr",
     "output_type": "stream",
     "text": [
      "c:\\programdata\\anaconda3\\envs\\tf\\lib\\site-packages\\keras\\engine\\training.py:479: UserWarning: Discrepancy between trainable weights and collected trainable weights, did you set `model.trainable` without calling `model.compile` after ?\n",
      "  'Discrepancy between trainable weights and collected trainable'\n"
     ]
    },
    {
     "name": "stdout",
     "output_type": "stream",
     "text": [
      "discriminator loss at step 0: 0.665847\n",
      "adversarial loss at step 0: 0.623331\n",
      "discriminator loss at step 100: 0.418456\n",
      "adversarial loss at step 100: 1.44912\n",
      "discriminator loss at step 200: 0.693346\n",
      "adversarial loss at step 200: 0.798272\n",
      "discriminator loss at step 300: 0.708829\n",
      "adversarial loss at step 300: 0.715685\n",
      "discriminator loss at step 400: 0.718942\n",
      "adversarial loss at step 400: 0.689263\n",
      "discriminator loss at step 500: 0.692922\n",
      "adversarial loss at step 500: 0.748052\n",
      "discriminator loss at step 600: 0.69388\n",
      "adversarial loss at step 600: 0.754301\n",
      "discriminator loss at step 700: 0.690479\n",
      "adversarial loss at step 700: 0.83784\n",
      "discriminator loss at step 800: 0.694158\n",
      "adversarial loss at step 800: 0.739714\n",
      "discriminator loss at step 900: 0.693568\n",
      "adversarial loss at step 900: 0.747274\n",
      "discriminator loss at step 1000: 0.715044\n",
      "adversarial loss at step 1000: 0.752541\n",
      "discriminator loss at step 1100: 0.686623\n",
      "adversarial loss at step 1100: 0.736833\n",
      "discriminator loss at step 1200: 0.69478\n",
      "adversarial loss at step 1200: 0.746895\n",
      "discriminator loss at step 1300: 0.701707\n",
      "adversarial loss at step 1300: 0.717928\n",
      "discriminator loss at step 1400: 0.715766\n",
      "adversarial loss at step 1400: 0.76542\n",
      "discriminator loss at step 1500: 0.703717\n",
      "adversarial loss at step 1500: 0.763369\n",
      "discriminator loss at step 1600: 0.700834\n",
      "adversarial loss at step 1600: 0.762272\n",
      "discriminator loss at step 1700: 0.683018\n",
      "adversarial loss at step 1700: 0.797214\n",
      "discriminator loss at step 1800: 0.701055\n",
      "adversarial loss at step 1800: 0.756417\n",
      "discriminator loss at step 1900: 0.708668\n",
      "adversarial loss at step 1900: 0.94337\n",
      "discriminator loss at step 2000: 0.69034\n",
      "adversarial loss at step 2000: 0.738025\n",
      "discriminator loss at step 2100: 0.66619\n",
      "adversarial loss at step 2100: 0.734508\n",
      "discriminator loss at step 2200: 0.697459\n",
      "adversarial loss at step 2200: 0.75318\n",
      "discriminator loss at step 2300: 0.696688\n",
      "adversarial loss at step 2300: 0.74472\n",
      "discriminator loss at step 2400: 0.693225\n",
      "adversarial loss at step 2400: 0.747983\n",
      "discriminator loss at step 2500: 0.696758\n",
      "adversarial loss at step 2500: 0.74368\n",
      "discriminator loss at step 2600: 0.688593\n",
      "adversarial loss at step 2600: 0.752058\n",
      "discriminator loss at step 2700: 0.708304\n",
      "adversarial loss at step 2700: 0.767772\n",
      "discriminator loss at step 2800: 0.706387\n",
      "adversarial loss at step 2800: 0.75262\n",
      "discriminator loss at step 2900: 0.694858\n",
      "adversarial loss at step 2900: 0.705825\n",
      "discriminator loss at step 3000: 0.69736\n",
      "adversarial loss at step 3000: 0.742756\n",
      "discriminator loss at step 3100: 0.689829\n",
      "adversarial loss at step 3100: 0.743885\n",
      "discriminator loss at step 3200: 0.68591\n",
      "adversarial loss at step 3200: 0.751331\n",
      "discriminator loss at step 3300: 0.695852\n",
      "adversarial loss at step 3300: 0.803905\n",
      "discriminator loss at step 3400: 0.69073\n",
      "adversarial loss at step 3400: 0.757208\n",
      "discriminator loss at step 3500: 0.700676\n",
      "adversarial loss at step 3500: 0.768898\n",
      "discriminator loss at step 3600: 0.675333\n",
      "adversarial loss at step 3600: 0.730486\n",
      "discriminator loss at step 3700: 0.681675\n",
      "adversarial loss at step 3700: 0.860703\n",
      "discriminator loss at step 3800: 0.695279\n",
      "adversarial loss at step 3800: 0.759553\n",
      "discriminator loss at step 3900: 0.685137\n",
      "adversarial loss at step 3900: 0.707412\n",
      "discriminator loss at step 4000: 0.689339\n",
      "adversarial loss at step 4000: 0.741339\n",
      "discriminator loss at step 4100: 0.698651\n",
      "adversarial loss at step 4100: 0.745611\n",
      "discriminator loss at step 4200: 0.700086\n",
      "adversarial loss at step 4200: 0.788463\n",
      "discriminator loss at step 4300: 0.704755\n",
      "adversarial loss at step 4300: 0.738627\n",
      "discriminator loss at step 4400: 0.688367\n",
      "adversarial loss at step 4400: 0.751062\n",
      "discriminator loss at step 4500: 0.709048\n",
      "adversarial loss at step 4500: 0.788074\n",
      "discriminator loss at step 4600: 0.690575\n",
      "adversarial loss at step 4600: 0.709715\n",
      "discriminator loss at step 4700: 0.684058\n",
      "adversarial loss at step 4700: 0.749059\n",
      "discriminator loss at step 4800: 0.698894\n",
      "adversarial loss at step 4800: 0.798292\n",
      "discriminator loss at step 4900: 0.684855\n",
      "adversarial loss at step 4900: 0.758569\n",
      "discriminator loss at step 5000: 0.70569\n",
      "adversarial loss at step 5000: 0.74637\n",
      "discriminator loss at step 5100: 0.709105\n",
      "adversarial loss at step 5100: 0.693572\n",
      "discriminator loss at step 5200: 0.693931\n",
      "adversarial loss at step 5200: 0.723284\n",
      "discriminator loss at step 5300: 0.687944\n",
      "adversarial loss at step 5300: 0.773092\n",
      "discriminator loss at step 5400: 0.69266\n",
      "adversarial loss at step 5400: 0.730444\n",
      "discriminator loss at step 5500: 0.6936\n",
      "adversarial loss at step 5500: 0.704541\n",
      "discriminator loss at step 5600: 0.758882\n",
      "adversarial loss at step 5600: 0.760325\n",
      "discriminator loss at step 5700: 0.799505\n",
      "adversarial loss at step 5700: 0.73313\n",
      "discriminator loss at step 5800: 0.689956\n",
      "adversarial loss at step 5800: 0.74423\n",
      "discriminator loss at step 5900: 0.721622\n",
      "adversarial loss at step 5900: 0.709791\n",
      "discriminator loss at step 6000: 0.696342\n",
      "adversarial loss at step 6000: 0.793003\n",
      "discriminator loss at step 6100: 0.698585\n",
      "adversarial loss at step 6100: 0.707585\n",
      "discriminator loss at step 6200: 0.721412\n",
      "adversarial loss at step 6200: 0.871943\n",
      "discriminator loss at step 6300: 0.689356\n",
      "adversarial loss at step 6300: 0.743291\n",
      "discriminator loss at step 6400: 0.686137\n",
      "adversarial loss at step 6400: 0.757583\n",
      "discriminator loss at step 6500: 0.691656\n",
      "adversarial loss at step 6500: 0.699267\n",
      "discriminator loss at step 6600: 0.681893\n",
      "adversarial loss at step 6600: 0.865933\n",
      "discriminator loss at step 6700: 0.689362\n",
      "adversarial loss at step 6700: 0.788967\n",
      "discriminator loss at step 6800: 0.702927\n",
      "adversarial loss at step 6800: 0.775331\n",
      "discriminator loss at step 6900: 0.702267\n",
      "adversarial loss at step 6900: 0.796736\n",
      "discriminator loss at step 7000: 0.679089\n",
      "adversarial loss at step 7000: 0.771412\n",
      "discriminator loss at step 7100: 0.683572\n",
      "adversarial loss at step 7100: 0.743286\n",
      "discriminator loss at step 7200: 0.683309\n",
      "adversarial loss at step 7200: 0.976652\n",
      "discriminator loss at step 7300: 0.679329\n",
      "adversarial loss at step 7300: 0.78792\n",
      "discriminator loss at step 7400: 0.711683\n",
      "adversarial loss at step 7400: 0.736009\n",
      "discriminator loss at step 7500: 0.68277\n",
      "adversarial loss at step 7500: 0.752864\n",
      "discriminator loss at step 7600: 0.689558\n",
      "adversarial loss at step 7600: 0.751284\n",
      "discriminator loss at step 7700: 0.708489\n",
      "adversarial loss at step 7700: 0.719551\n",
      "discriminator loss at step 7800: 0.683047\n",
      "adversarial loss at step 7800: 0.836973\n",
      "discriminator loss at step 7900: 0.939168\n",
      "adversarial loss at step 7900: 4.74839\n",
      "discriminator loss at step 8000: 0.724575\n",
      "adversarial loss at step 8000: 0.82022\n",
      "discriminator loss at step 8100: 0.672076\n",
      "adversarial loss at step 8100: 0.939255\n",
      "discriminator loss at step 8200: 0.679862\n",
      "adversarial loss at step 8200: 0.815571\n",
      "discriminator loss at step 8300: 0.645579\n",
      "adversarial loss at step 8300: 0.777687\n",
      "discriminator loss at step 8400: 0.715164\n",
      "adversarial loss at step 8400: 0.739551\n",
      "discriminator loss at step 8500: 0.693543\n",
      "adversarial loss at step 8500: 0.825311\n",
      "discriminator loss at step 8600: 0.625593\n",
      "adversarial loss at step 8600: 0.919742\n",
      "discriminator loss at step 8700: 0.679507\n",
      "adversarial loss at step 8700: 0.77283\n",
      "discriminator loss at step 8800: 0.666912\n",
      "adversarial loss at step 8800: 0.834093\n",
      "discriminator loss at step 8900: 0.696897\n",
      "adversarial loss at step 8900: 0.827287\n",
      "discriminator loss at step 9000: 0.685408\n",
      "adversarial loss at step 9000: 0.780712\n",
      "discriminator loss at step 9100: 0.741067\n",
      "adversarial loss at step 9100: 0.56575\n",
      "discriminator loss at step 9200: 0.678861\n",
      "adversarial loss at step 9200: 0.792651\n",
      "discriminator loss at step 9300: 0.686653\n",
      "adversarial loss at step 9300: 0.757901\n",
      "discriminator loss at step 9400: 0.668524\n",
      "adversarial loss at step 9400: 0.729905\n",
      "discriminator loss at step 9500: 0.698423\n",
      "adversarial loss at step 9500: 0.793192\n",
      "discriminator loss at step 9600: 0.658219\n",
      "adversarial loss at step 9600: 0.508739\n",
      "discriminator loss at step 9700: 0.686029\n",
      "adversarial loss at step 9700: 0.784485\n",
      "discriminator loss at step 9800: 0.716968\n",
      "adversarial loss at step 9800: 0.813364\n",
      "discriminator loss at step 9900: 0.693863\n",
      "adversarial loss at step 9900: 0.86425\n"
     ]
    }
   ],
   "source": [
    "import os\n",
    "from keras.preprocessing import image\n",
    "\n",
    "# Load CIFAR10 data（加载 CIFAR10数据）\n",
    "(x_train, y_train), (_, _) = keras.datasets.cifar10.load_data()\n",
    "\n",
    "# Select frog images (class 6)（选择青蛙图像（类别编号为 6））\n",
    "x_train = x_train[y_train.flatten() == 6]\n",
    "\n",
    "# Normalize data（数据标准化）\n",
    "x_train = x_train.reshape(\n",
    "    (x_train.shape[0],) + (height, width, channels)).astype('float32') / 255.\n",
    "\n",
    "iterations = 10000\n",
    "batch_size = 20\n",
    "save_dir = 'data/gan_images/'\n",
    "# 指定保存生成 图像的目录\n",
    "\n",
    "# Start training loop（开始循环）\n",
    "start = 0\n",
    "for step in range(iterations):\n",
    "    # Sample random points in the latent space（在潜在空间中采样随机点）\n",
    "    random_latent_vectors = np.random.normal(size=(batch_size, latent_dim))\n",
    "\n",
    "    # Decode them to fake images（将这些点解码为虚假图像）\n",
    "    generated_images = generator.predict(random_latent_vectors)\n",
    "\n",
    "    # Combine them with real images（将这些虚假图像与真实图像合在一起）\n",
    "    stop = start + batch_size\n",
    "    real_images = x_train[start: stop]\n",
    "    combined_images = np.concatenate([generated_images, real_images])\n",
    "\n",
    "    # Assemble labels discriminating real from fake images\n",
    "    #合并标签，区分真实和虚假的图像\n",
    "\n",
    "    labels = np.concatenate([np.ones((batch_size, 1)),\n",
    "                             np.zeros((batch_size, 1))])\n",
    "    # Add random noise to the labels - important trick!\n",
    "    #向标签中添加随机噪声，这是一个很重要的技巧\n",
    "    labels += 0.05 * np.random.random(labels.shape)\n",
    "\n",
    "    # Train the discriminator（训练判别器）\n",
    "    d_loss = discriminator.train_on_batch(combined_images, labels)\n",
    "\n",
    "    # sample random points in the latent space（在潜在空间中采样随机点）\n",
    "    random_latent_vectors = np.random.normal(size=(batch_size, latent_dim))\n",
    "\n",
    "    # Assemble labels that say \"all real images\"（合并标签，全部是“真实图像”（这是通过 gan 模型）\n",
    "    misleading_targets = np.zeros((batch_size, 1))\n",
    "\n",
    "    # Train the generator (via the gan model,\n",
    "    # where the discriminator weights are frozen)\n",
    "    #来训练生成器（此时冻结判别器权重）\n",
    " \n",
    "    a_loss = gan.train_on_batch(random_latent_vectors, misleading_targets)\n",
    "    \n",
    "    start += batch_size\n",
    "    if start > len(x_train) - batch_size:\n",
    "        start = 0\n",
    "\n",
    "    # Occasionally save / plot\n",
    "    if step % 100 == 0:\n",
    "        # Save model weights（保存模型权重）\n",
    "        gan.save_weights('gan.h5')\n",
    "\n",
    "        # Print metrics（将指标打印出来）\n",
    "        print('discriminator loss at step %s: %s' % (step, d_loss))\n",
    "        print('adversarial loss at step %s: %s' % (step, a_loss))\n",
    "\n",
    "        # Save one generated image（保存一张生成图像）\n",
    "        img = image.array_to_img(generated_images[0] * 255., scale=False)\n",
    "        img.save(os.path.join(save_dir, 'generated_frog' + str(step) + '.png'))\n",
    "\n",
    "        # Save one real image, for comparison（保存一张真实图像，用于对比）\n",
    "        img = image.array_to_img(real_images[0] * 255., scale=False)\n",
    "        img.save(os.path.join(save_dir, 'real_frog' + str(step) + '.png'))"
   ]
  },
  {
   "cell_type": "markdown",
   "metadata": {
    "collapsed": true
   },
   "source": [
    "Let's display a few of our fake images:"
   ]
  },
  {
   "cell_type": "code",
   "execution_count": 7,
   "metadata": {
    "scrolled": true
   },
   "outputs": [
    {
     "data": {
      "image/png": "[encoded data removed]",
      "text/plain": [
       "<Figure size 432x288 with 1 Axes>"
      ]
     },
     "metadata": {},
     "output_type": "display_data"
    },
    {
     "data": {
      "image/png": "[encoded data removed]",
      "text/plain": [
       "<Figure size 432x288 with 1 Axes>"
      ]
     },
     "metadata": {},
     "output_type": "display_data"
    },
    {
     "data": {
      "image/png": "[encoded data removed]",
      "text/plain": [
       "<Figure size 432x288 with 1 Axes>"
      ]
     },
     "metadata": {},
     "output_type": "display_data"
    },
    {
     "data": {
      "image/png": "[encoded data removed]",
      "text/plain": [
       "<Figure size 432x288 with 1 Axes>"
      ]
     },
     "metadata": {},
     "output_type": "display_data"
    },
    {
     "data": {
      "image/png": "[encoded data removed]",
      "text/plain": [
       "<Figure size 432x288 with 1 Axes>"
      ]
     },
     "metadata": {},
     "output_type": "display_data"
    },
    {
     "data": {
      "image/png": "[encoded data removed]",
      "text/plain": [
       "<Figure size 432x288 with 1 Axes>"
      ]
     },
     "metadata": {},
     "output_type": "display_data"
    },
    {
     "data": {
      "image/png": "[encoded data removed]",
      "text/plain": [
       "<Figure size 432x288 with 1 Axes>"
      ]
     },
     "metadata": {},
     "output_type": "display_data"
    },
    {
     "data": {
      "image/png": "[encoded data removed]",
      "text/plain": [
       "<Figure size 432x288 with 1 Axes>"
      ]
     },
     "metadata": {},
     "output_type": "display_data"
    },
    {
     "data": {
      "image/png": "[encoded data removed]",
      "text/plain": [
       "<Figure size 432x288 with 1 Axes>"
      ]
     },
     "metadata": {},
     "output_type": "display_data"
    },
    {
     "data": {
      "image/png": "[encoded data removed]",
      "text/plain": [
       "<Figure size 432x288 with 1 Axes>"
      ]
     },
     "metadata": {},
     "output_type": "display_data"
    }
   ],
   "source": [
    "import matplotlib.pyplot as plt\n",
    "\n",
    "# sample random points in the latent space（在潜在空间中采样随机点）\n",
    "random_latent_vectors = np.random.normal(size=(10, latent_dim))\n",
    "\n",
    "# Decode them to fake images（将这些点解码为虚假图像）\n",
    "generated_images = generator.predict(random_latent_vectors)\n",
    "\n",
    "for i in range(generated_images.shape[0]):\n",
    "    img = image.array_to_img(generated_images[i] * 255., scale=False)\n",
    "    plt.figure()\n",
    "    plt.imshow(img)\n",
    "    \n",
    "plt.show()"
   ]
  },
  {
   "cell_type": "markdown",
   "metadata": {},
   "source": [
    "Froggy with some pixellated artifacts."
   ]
  },
  {
   "cell_type": "markdown",
   "metadata": {},
   "source": [
    "## 小结\n",
    "\n",
    "* GAN 由一个生成器网络和一个判别器网络组成。判别器的训练目的是能够区分生成器的输出与来自训练集的真实图像，生成器的训练目的是欺骗判别器。值得注意的是，生成器从未直接见过训练集中的图像，它所知道的关于数据的信息都来自于判别器。\n",
    "* GAN 很难训练，因为训练 GAN 是一个动态过程，而不是具有固定损失的简单梯度下降过程。想要正确地训练 GAN，需要使用一些启发式技巧，还需要大量的调节。\n",
    "* GAN 可能会生成非常逼真的图像。但与 VAE 不同，GAN 学习的潜在空间没有整齐的连续结构，因此可能不适用于某些实际应用，比如通过潜在空间概念向量进行图像编辑。\n"
   ]
  },
  {
   "cell_type": "code",
   "execution_count": null,
   "metadata": {},
   "outputs": [],
   "source": []
  }
 ],
 "metadata": {
  "kernelspec": {
   "display_name": "Python 3",
   "language": "python",
   "name": "python3"
  },
  "language_info": {
   "codemirror_mode": {
    "name": "ipython",
    "version": 3
   },
   "file_extension": ".py",
   "mimetype": "text/x-python",
   "name": "python",
   "nbconvert_exporter": "python",
   "pygments_lexer": "ipython3",
   "version": "3.6.6"
  }
 },
 "nbformat": 4,
 "nbformat_minor": 2
}
